{
 "cells": [
  {
   "cell_type": "code",
   "execution_count": null,
   "metadata": {},
   "outputs": [],
   "source": [
    "#datascientist\n",
    "\n",
    "\"\"\"\n",
    "Packages/ Library\n",
    "\n",
    "Pandas\n",
    "Numpy\n",
    "\n",
    "keras,pytorch,tensorflow\n",
    "\n",
    "nltk,spacy\n",
    "\n",
    "data visualisation, matplot lib, seaborn,plotly\n",
    "\n",
    "Algorithms\n",
    "\n",
    "Machine learning algorithms like gradient boosting random forest neural networks\n",
    "\n",
    "AI Components\n",
    "\n",
    "time series analysis,deep leaning and NLP \n",
    "\n",
    "\n",
    "programming languages Python R\n",
    "\n",
    "SQL [must.... killer skill for first data science job]\n",
    "\n",
    "Business Intelligence tool [tableau, powerbi, click sense]  tableau\n",
    "\n",
    "\"\"\"\n",
    "\n",
    "big data stuff.... pyspark"
   ]
  },
  {
   "cell_type": "code",
   "execution_count": null,
   "metadata": {},
   "outputs": [],
   "source": [
    "Python.... Weapon\n",
    "\n",
    "Core Python\n",
    "    Part_1 Python Fundamentals\n",
    "    Part_2 Advanced Python\n",
    "\n",
    "Data science Python\n",
    "    Complete Module covering 10+ Data science packages"
   ]
  },
  {
   "cell_type": "code",
   "execution_count": null,
   "metadata": {},
   "outputs": [],
   "source": []
  },
  {
   "cell_type": "code",
   "execution_count": null,
   "metadata": {},
   "outputs": [],
   "source": [
    "#calculator: \n",
    "\n",
    "#task: add, sub what ever\n",
    "\n",
    "#some process\n",
    "\n",
    "#input.... process the input ..... give the output"
   ]
  },
  {
   "cell_type": "code",
   "execution_count": null,
   "metadata": {},
   "outputs": [],
   "source": []
  },
  {
   "cell_type": "code",
   "execution_count": null,
   "metadata": {},
   "outputs": [],
   "source": [
    "#Computer\n",
    "\n",
    "#it does some process \n",
    "\n",
    "#instructions for computing device (computer) to do tasks\n",
    "\n",
    "#Language..... programming language"
   ]
  },
  {
   "cell_type": "markdown",
   "metadata": {},
   "source": [
    "### Communication??"
   ]
  },
  {
   "cell_type": "markdown",
   "metadata": {},
   "source": [
    "Programming language - c, java, python"
   ]
  },
  {
   "cell_type": "code",
   "execution_count": null,
   "metadata": {},
   "outputs": [],
   "source": []
  },
  {
   "cell_type": "code",
   "execution_count": null,
   "metadata": {},
   "outputs": [],
   "source": [
    "#programming language: PYTHON"
   ]
  },
  {
   "cell_type": "code",
   "execution_count": null,
   "metadata": {},
   "outputs": [],
   "source": [
    "#Processing Information"
   ]
  },
  {
   "cell_type": "code",
   "execution_count": null,
   "metadata": {},
   "outputs": [],
   "source": []
  },
  {
   "cell_type": "code",
   "execution_count": null,
   "metadata": {},
   "outputs": [],
   "source": [
    "#Summeriser"
   ]
  },
  {
   "cell_type": "code",
   "execution_count": 1,
   "metadata": {},
   "outputs": [
    {
     "data": {
      "text/plain": [
       "30"
      ]
     },
     "execution_count": 1,
     "metadata": {},
     "output_type": "execute_result"
    }
   ],
   "source": [
    "10+20"
   ]
  },
  {
   "cell_type": "code",
   "execution_count": 6,
   "metadata": {},
   "outputs": [],
   "source": [
    "a=10\n",
    "#creating variable"
   ]
  },
  {
   "cell_type": "code",
   "execution_count": 2,
   "metadata": {},
   "outputs": [],
   "source": [
    "var_name=10"
   ]
  },
  {
   "cell_type": "code",
   "execution_count": 3,
   "metadata": {},
   "outputs": [
    {
     "data": {
      "text/plain": [
       "10"
      ]
     },
     "execution_count": 3,
     "metadata": {},
     "output_type": "execute_result"
    }
   ],
   "source": [
    "var_name"
   ]
  },
  {
   "cell_type": "code",
   "execution_count": 4,
   "metadata": {},
   "outputs": [
    {
     "data": {
      "text/plain": [
       "1401743436368"
      ]
     },
     "execution_count": 4,
     "metadata": {},
     "output_type": "execute_result"
    }
   ],
   "source": [
    "id(var_name)"
   ]
  },
  {
   "cell_type": "code",
   "execution_count": null,
   "metadata": {},
   "outputs": [],
   "source": [
    "#1401743436368 var_name | 10|"
   ]
  },
  {
   "cell_type": "code",
   "execution_count": 7,
   "metadata": {},
   "outputs": [
    {
     "data": {
      "text/plain": [
       "10"
      ]
     },
     "execution_count": 7,
     "metadata": {},
     "output_type": "execute_result"
    }
   ],
   "source": [
    "a"
   ]
  },
  {
   "cell_type": "code",
   "execution_count": 8,
   "metadata": {},
   "outputs": [],
   "source": [
    "a=10\n",
    "b=20"
   ]
  },
  {
   "cell_type": "code",
   "execution_count": 9,
   "metadata": {},
   "outputs": [],
   "source": [
    "c=a+b"
   ]
  },
  {
   "cell_type": "code",
   "execution_count": 10,
   "metadata": {},
   "outputs": [
    {
     "data": {
      "text/plain": [
       "30"
      ]
     },
     "execution_count": 10,
     "metadata": {},
     "output_type": "execute_result"
    }
   ],
   "source": [
    "c"
   ]
  },
  {
   "cell_type": "code",
   "execution_count": 11,
   "metadata": {},
   "outputs": [
    {
     "data": {
      "text/plain": [
       "int"
      ]
     },
     "execution_count": 11,
     "metadata": {},
     "output_type": "execute_result"
    }
   ],
   "source": [
    "type(c)"
   ]
  },
  {
   "cell_type": "code",
   "execution_count": null,
   "metadata": {},
   "outputs": [],
   "source": [
    "#we are doing some process on variables"
   ]
  },
  {
   "cell_type": "code",
   "execution_count": null,
   "metadata": {},
   "outputs": [],
   "source": []
  },
  {
   "cell_type": "code",
   "execution_count": 14,
   "metadata": {},
   "outputs": [],
   "source": [
    "#test=1000"
   ]
  },
  {
   "cell_type": "code",
   "execution_count": null,
   "metadata": {},
   "outputs": [],
   "source": [
    "#this will not be executed\n",
    "\n",
    "#commenting\n",
    "\n",
    "#test=1000"
   ]
  },
  {
   "cell_type": "code",
   "execution_count": 15,
   "metadata": {},
   "outputs": [
    {
     "ename": "NameError",
     "evalue": "name 'test' is not defined",
     "output_type": "error",
     "traceback": [
      "\u001b[1;31m---------------------------------------------------------------------------\u001b[0m",
      "\u001b[1;31mNameError\u001b[0m                                 Traceback (most recent call last)",
      "\u001b[1;32m~\\AppData\\Local\\Temp/ipykernel_24236/2074824509.py\u001b[0m in \u001b[0;36m<module>\u001b[1;34m\u001b[0m\n\u001b[1;32m----> 1\u001b[1;33m \u001b[0mtest\u001b[0m\u001b[1;33m\u001b[0m\u001b[1;33m\u001b[0m\u001b[0m\n\u001b[0m",
      "\u001b[1;31mNameError\u001b[0m: name 'test' is not defined"
     ]
    }
   ],
   "source": [
    "test"
   ]
  },
  {
   "cell_type": "code",
   "execution_count": 16,
   "metadata": {},
   "outputs": [],
   "source": [
    "test=1000"
   ]
  },
  {
   "cell_type": "code",
   "execution_count": 17,
   "metadata": {},
   "outputs": [
    {
     "data": {
      "text/plain": [
       "1000"
      ]
     },
     "execution_count": 17,
     "metadata": {},
     "output_type": "execute_result"
    }
   ],
   "source": [
    "test"
   ]
  },
  {
   "cell_type": "code",
   "execution_count": null,
   "metadata": {},
   "outputs": [],
   "source": []
  },
  {
   "cell_type": "code",
   "execution_count": null,
   "metadata": {},
   "outputs": [],
   "source": [
    "Data Type\n",
    "\n",
    "10 - integer\n",
    "\"python\" - string\n",
    "\"10\" - string\n",
    "\n",
    "10.5 - float\n",
    "\n",
    "true, false - boolean"
   ]
  },
  {
   "cell_type": "code",
   "execution_count": null,
   "metadata": {},
   "outputs": [],
   "source": []
  },
  {
   "cell_type": "code",
   "execution_count": null,
   "metadata": {},
   "outputs": [],
   "source": [
    "Employee Data\n",
    "\n",
    "Emp_id, Age, Income, Exp\n",
    "1, 32, 2 lakhs, 4\n",
    "2,28, 3 lakh, 3\n",
    "3\n",
    "4\n",
    "\n",
    "age.... 32,28,31,45\n",
    "income.....\n",
    "\n",
    "rows\n",
    "1, 32, 2 lakhs, 4\n",
    "\n",
    "\" This product is good but it has battery issues\"\n",
    "\n",
    "\n",
    "{name:'Surge Classes',\n",
    "Income: 2 Million,\n",
    "strength: 30}\n",
    "    \n",
    "Key: Value"
   ]
  },
  {
   "cell_type": "code",
   "execution_count": null,
   "metadata": {},
   "outputs": [],
   "source": []
  },
  {
   "cell_type": "code",
   "execution_count": null,
   "metadata": {},
   "outputs": [],
   "source": [
    "#if we want to know what kind of data variable is stroing\n",
    "datatypes\n",
    "\n",
    "# if we want to work with group(collection) of items(elements)\n",
    "lists,tuples and sets\n",
    "\n",
    "#if we want to work with text data\n",
    "strings\n",
    "\n",
    "#if we want to work with key value pair\n",
    "dict"
   ]
  },
  {
   "cell_type": "code",
   "execution_count": null,
   "metadata": {},
   "outputs": [],
   "source": [
    "'key':value\n",
    "'name': 'Surge Classes'"
   ]
  },
  {
   "cell_type": "code",
   "execution_count": null,
   "metadata": {},
   "outputs": [],
   "source": [
    "#if we want to do some process on variables\n",
    "operators"
   ]
  },
  {
   "cell_type": "code",
   "execution_count": null,
   "metadata": {},
   "outputs": [],
   "source": [
    "#Scenerio\n",
    "\n",
    "not late..... 'good evening'\n",
    "late..... 'Mr. Krishna, my time is very valuable. I am not free like you.. please be professional'"
   ]
  },
  {
   "cell_type": "code",
   "execution_count": null,
   "metadata": {},
   "outputs": [],
   "source": []
  },
  {
   "cell_type": "code",
   "execution_count": null,
   "metadata": {},
   "outputs": [],
   "source": [
    "when your trainer is on time...... you want to send him a messgae ''Good Evening\n",
    "\n",
    "late...... \"Mr. Krishna, my time is very valuable. I am not free like you.. please be professional\""
   ]
  },
  {
   "cell_type": "code",
   "execution_count": null,
   "metadata": {},
   "outputs": [],
   "source": []
  },
  {
   "cell_type": "code",
   "execution_count": null,
   "metadata": {},
   "outputs": [],
   "source": [
    "Task:sending messages\n",
    "\n",
    "situation_1: send message_1 ....action_1\n",
    "situation_2: send message_2 ....action_2\n",
    "    \n",
    "how do we differentiate situations?"
   ]
  },
  {
   "cell_type": "code",
   "execution_count": null,
   "metadata": {},
   "outputs": [],
   "source": []
  },
  {
   "cell_type": "code",
   "execution_count": null,
   "metadata": {},
   "outputs": [],
   "source": [
    "coming late... condition\n",
    "\n",
    "\n",
    "\n",
    "action_1..... on time\n",
    "action_2....... late\n",
    "\n",
    "\n",
    "different actions has to be happended at different situations.....\n",
    "\n",
    "to identify different situation...... we come up with one condition....\n",
    "\n",
    "condition=true..... situation_1..... action_1\n",
    "\n",
    "condition=false..... situation_2..... action_2"
   ]
  },
  {
   "cell_type": "code",
   "execution_count": null,
   "metadata": {},
   "outputs": [],
   "source": [
    "condition\n",
    "\n",
    "situation_1: send message_1 ....action_1\n",
    "situation_2: send message_2 ....action_2"
   ]
  },
  {
   "cell_type": "code",
   "execution_count": null,
   "metadata": {},
   "outputs": [],
   "source": []
  },
  {
   "cell_type": "code",
   "execution_count": null,
   "metadata": {},
   "outputs": [],
   "source": [
    "if condition:\n",
    "    if statements will be executed when condition is true\n",
    "\n",
    "else:\n",
    "    else statements will be executed when condition is false"
   ]
  },
  {
   "cell_type": "code",
   "execution_count": null,
   "metadata": {},
   "outputs": [],
   "source": [
    "condition......\n",
    "\n",
    "\n",
    "conditional statements........\n",
    "\n",
    "\n",
    "if else....... \n",
    "\n",
    "\n",
    "if......(condition):\n",
    "    action_1\n",
    "else...:\n",
    "    action_2"
   ]
  },
  {
   "cell_type": "code",
   "execution_count": null,
   "metadata": {},
   "outputs": [],
   "source": []
  },
  {
   "cell_type": "code",
   "execution_count": null,
   "metadata": {},
   "outputs": [],
   "source": [
    "when condition is true, if statements (action_1) will be executed\n",
    "\n",
    "when condition is false else statement will be executed"
   ]
  },
  {
   "cell_type": "code",
   "execution_count": null,
   "metadata": {},
   "outputs": [],
   "source": []
  },
  {
   "cell_type": "code",
   "execution_count": null,
   "metadata": {},
   "outputs": [],
   "source": []
  },
  {
   "cell_type": "code",
   "execution_count": null,
   "metadata": {},
   "outputs": [],
   "source": [
    "#Scenerio 2\n",
    "\n",
    "every month your father has to do one of two activities(one of two actions)\n",
    "\n",
    "situation_1: Bad month.... your father scolds you... action_1(task_1)\n",
    "    \n",
    "situation_2: good month.... father appreciates you... action_2(task_2)\n",
    "    \n",
    "    \n",
    "how does your father differentiates situation_1 to situation_2?\n",
    "\n",
    "how does your father differentiates bad month to good month?"
   ]
  },
  {
   "cell_type": "code",
   "execution_count": null,
   "metadata": {},
   "outputs": [],
   "source": [
    "expenses > salary...... bad month\n",
    "\n",
    "expenses < salary...... good month\n",
    "\n",
    "how do we differentiate situations?\n",
    "\n",
    "criteria\n",
    "\n",
    "conditions\n",
    "\n",
    "conditional statements\n",
    "\n",
    "decision making\n",
    "\n",
    "if\n",
    "\n",
    "\n",
    "if \n",
    "\n",
    "else\n"
   ]
  },
  {
   "cell_type": "code",
   "execution_count": null,
   "metadata": {},
   "outputs": [],
   "source": [
    "condition:\n",
    "    \n",
    "what is the output of a condition?\n",
    "\n",
    "yes/no\n",
    "\n",
    "True/False\n",
    "\n",
    "to create conditions, we use conditional operators\n",
    "\n",
    "condtion is true...... action_1\n",
    "\n",
    "condition is false.... action_2"
   ]
  },
  {
   "cell_type": "code",
   "execution_count": null,
   "metadata": {},
   "outputs": [],
   "source": []
  },
  {
   "cell_type": "code",
   "execution_count": null,
   "metadata": {},
   "outputs": [],
   "source": []
  },
  {
   "cell_type": "code",
   "execution_count": null,
   "metadata": {},
   "outputs": [],
   "source": []
  },
  {
   "cell_type": "code",
   "execution_count": null,
   "metadata": {},
   "outputs": [],
   "source": [
    "repitative tasks\n",
    "\n",
    "waking up sleeping\n",
    "\n",
    "#eating food\n",
    "\n",
    "breathing \n",
    "\n",
    "using social media\n",
    "\n",
    "watching series\n",
    "\n",
    "bathing\n",
    "\n",
    "hearing\n",
    "\n",
    "texting \n",
    "\n",
    "sleeping \n",
    "\n",
    "talking\n",
    "\n",
    "drinking\n",
    "\n",
    "attending class\n",
    "\n",
    "driving\n"
   ]
  },
  {
   "cell_type": "code",
   "execution_count": null,
   "metadata": {},
   "outputs": [],
   "source": [
    "eating....\n",
    "\n",
    "south indian\n",
    "\n",
    "first iteration\n",
    "first repitation\n",
    "\n",
    "takes curry\n",
    "put it in rice\n",
    "mixing it\n",
    "take with hand\n",
    "eat it......\n",
    "\n",
    "second iteration\n",
    "second repitation\n",
    "\n",
    "takes curry\n",
    "put it in rice\n",
    "mixing it\n",
    "take with hand\n",
    "eat it......\n",
    "\n",
    "takes curry\n",
    "put it in rice\n",
    "mixing it\n",
    "take with hand\n",
    "eat it......\n",
    "\n",
    "takes curry\n",
    "put it in rice\n",
    "mixing it\n",
    "take with hand\n",
    "eat it......\n",
    "\n",
    "till when....... she feels it is enough or food has to be completed\n",
    "\n",
    "stoping criteria\n",
    "\n",
    "action_1\n",
    "action_2\n",
    "action_3\n",
    "action_4\n",
    "action_5\n",
    "\n",
    "\n",
    "iterations\n",
    "\n",
    "for.....(stop criteria)\n",
    "    action_1\n",
    "    action_2\n",
    "    action_3\n",
    "    action_4\n",
    "    action_5\n",
    "\n",
    ".... for loop......\n",
    "\n",
    "while"
   ]
  },
  {
   "cell_type": "code",
   "execution_count": null,
   "metadata": {},
   "outputs": [],
   "source": []
  },
  {
   "cell_type": "code",
   "execution_count": 1,
   "metadata": {},
   "outputs": [
    {
     "ename": "SyntaxError",
     "evalue": "invalid syntax (1731232092.py, line 1)",
     "output_type": "error",
     "traceback": [
      "\u001b[1;36m  Input \u001b[1;32mIn [1]\u001b[1;36m\u001b[0m\n\u001b[1;33m    simple interest=( Principle *Time* Rate)/100\u001b[0m\n\u001b[1;37m           ^\u001b[0m\n\u001b[1;31mSyntaxError\u001b[0m\u001b[1;31m:\u001b[0m invalid syntax\n"
     ]
    }
   ],
   "source": [
    "simple interest=( Principle *Time* Rate)/100"
   ]
  },
  {
   "cell_type": "code",
   "execution_count": 2,
   "metadata": {},
   "outputs": [
    {
     "ename": "SyntaxError",
     "evalue": "invalid syntax (609612984.py, line 6)",
     "output_type": "error",
     "traceback": [
      "\u001b[1;36m  Input \u001b[1;32mIn [2]\u001b[1;36m\u001b[0m\n\u001b[1;33m    si_1000=\u001b[0m\n\u001b[1;37m            ^\u001b[0m\n\u001b[1;31mSyntaxError\u001b[0m\u001b[1;31m:\u001b[0m invalid syntax\n"
     ]
    }
   ],
   "source": [
    "si_1=p_1*t_1*r_1/100\n",
    "\n",
    "si_2=p_2*t_2*r_2/100\n",
    "\n",
    "\n",
    "si_1000="
   ]
  },
  {
   "cell_type": "code",
   "execution_count": 3,
   "metadata": {},
   "outputs": [
    {
     "ename": "SyntaxError",
     "evalue": "invalid syntax (2212954178.py, line 4)",
     "output_type": "error",
     "traceback": [
      "\u001b[1;36m  Input \u001b[1;32mIn [3]\u001b[1;36m\u001b[0m\n\u001b[1;33m    fn(input variable)\u001b[0m\n\u001b[1;37m             ^\u001b[0m\n\u001b[1;31mSyntaxError\u001b[0m\u001b[1;31m:\u001b[0m invalid syntax\n"
     ]
    }
   ],
   "source": [
    "output=functions(input)\n",
    "\n",
    "\n",
    "fn(input variable)\n",
    "    computations\n",
    "    return output"
   ]
  },
  {
   "cell_type": "code",
   "execution_count": null,
   "metadata": {},
   "outputs": [],
   "source": []
  },
  {
   "cell_type": "code",
   "execution_count": 4,
   "metadata": {},
   "outputs": [],
   "source": [
    "def fn_name(input_var):\n",
    "    output=process(input_var)\n",
    "    return output"
   ]
  },
  {
   "cell_type": "code",
   "execution_count": null,
   "metadata": {},
   "outputs": [],
   "source": [
    "def fn_name(input variables):\n",
    "    out=process(input variables)\n",
    "    return out\n",
    "\n",
    "call it with its name and values for input variables\n",
    "\n",
    "I can use it 1000 times"
   ]
  },
  {
   "cell_type": "code",
   "execution_count": null,
   "metadata": {},
   "outputs": [],
   "source": []
  },
  {
   "cell_type": "code",
   "execution_count": null,
   "metadata": {},
   "outputs": [],
   "source": [
    "def compute_area(length,breadth):\n",
    "    area=length*breadth\n",
    "    return area\n",
    "\n",
    "area=compute_area(300,150)"
   ]
  },
  {
   "cell_type": "code",
   "execution_count": null,
   "metadata": {},
   "outputs": [],
   "source": []
  },
  {
   "cell_type": "code",
   "execution_count": null,
   "metadata": {},
   "outputs": [],
   "source": [
    "def compute_si(p,t,r):\n",
    "    si=p*t*r/100\n",
    "    return si\n",
    "\n"
   ]
  },
  {
   "cell_type": "code",
   "execution_count": 5,
   "metadata": {},
   "outputs": [
    {
     "ename": "NameError",
     "evalue": "name 'compute_si' is not defined",
     "output_type": "error",
     "traceback": [
      "\u001b[1;31m---------------------------------------------------------------------------\u001b[0m",
      "\u001b[1;31mNameError\u001b[0m                                 Traceback (most recent call last)",
      "Input \u001b[1;32mIn [5]\u001b[0m, in \u001b[0;36m<cell line: 1>\u001b[1;34m()\u001b[0m\n\u001b[1;32m----> 1\u001b[0m si_1\u001b[38;5;241m=\u001b[39m\u001b[43mcompute_si\u001b[49m(p_1,t_1,r_1)\n\u001b[0;32m      3\u001b[0m si_1000\u001b[38;5;241m=\u001b[39mcompute_si(p_1000,t_1000,r_1000)\n",
      "\u001b[1;31mNameError\u001b[0m: name 'compute_si' is not defined"
     ]
    }
   ],
   "source": [
    "si_1=compute_si(p_1,t_1,r_1)\n",
    "\n",
    "si_1000=compute_si(p_1000,t_1000,r_1000)"
   ]
  },
  {
   "cell_type": "code",
   "execution_count": null,
   "metadata": {},
   "outputs": [],
   "source": [
    "write functions....... def\n",
    "\n",
    "special functions lambda map filter list comprehensation apply"
   ]
  },
  {
   "cell_type": "code",
   "execution_count": null,
   "metadata": {},
   "outputs": [],
   "source": [
    "\n",
    "\n",
    "\"\"\"\n",
    "python is awesome\n",
    "\n",
    "it empowers you in the feild of AL\n",
    "\n",
    "\"\"\"\n"
   ]
  }
 ],
 "metadata": {
  "kernelspec": {
   "display_name": "Python 3 (ipykernel)",
   "language": "python",
   "name": "python3"
  },
  "language_info": {
   "codemirror_mode": {
    "name": "ipython",
    "version": 3
   },
   "file_extension": ".py",
   "mimetype": "text/x-python",
   "name": "python",
   "nbconvert_exporter": "python",
   "pygments_lexer": "ipython3",
   "version": "3.9.12"
  }
 },
 "nbformat": 4,
 "nbformat_minor": 4
}
