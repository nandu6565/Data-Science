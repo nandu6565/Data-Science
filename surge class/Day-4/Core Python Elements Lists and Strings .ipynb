{
 "cells": [
  {
   "cell_type": "code",
   "execution_count": null,
   "metadata": {},
   "outputs": [],
   "source": [
    "Data scientist\n",
    "\n",
    "Data\n",
    "\n",
    "Information in the form of rows and columns\n",
    "\n",
    "cid,age,income,gender\n",
    "1,27,1.5 lakh,M\n",
    "2,22,30k,F\n",
    "3,25,70k,F\n",
    "4,25,60k,M\n",
    "\n",
    "\n",
    "10,24,100k,F\n",
    "\n",
    "age=[27,22,25,25,...,24]\n",
    "\n",
    "#collection of ages of 10 customers\n",
    "\n",
    "#each column is like one list\n",
    "#each feature is like one list\n",
    "#each variable is like one list"
   ]
  },
  {
   "cell_type": "code",
   "execution_count": 1,
   "metadata": {},
   "outputs": [
    {
     "data": {
      "text/plain": [
       "list"
      ]
     },
     "execution_count": 1,
     "metadata": {},
     "output_type": "execute_result"
    }
   ],
   "source": [
    "type([1,2,3,4,5])"
   ]
  },
  {
   "cell_type": "code",
   "execution_count": 2,
   "metadata": {},
   "outputs": [],
   "source": [
    "my_first_list=[1,2,3,4,5]\n",
    "\n",
    "#collection of elements"
   ]
  },
  {
   "cell_type": "code",
   "execution_count": 3,
   "metadata": {},
   "outputs": [
    {
     "data": {
      "text/plain": [
       "1387900248704"
      ]
     },
     "execution_count": 3,
     "metadata": {},
     "output_type": "execute_result"
    }
   ],
   "source": [
    "id(my_first_list)"
   ]
  },
  {
   "cell_type": "code",
   "execution_count": 4,
   "metadata": {},
   "outputs": [
    {
     "ename": "SyntaxError",
     "evalue": "invalid syntax (2652982993.py, line 1)",
     "output_type": "error",
     "traceback": [
      "\u001b[1;36m  Input \u001b[1;32mIn [4]\u001b[1;36m\u001b[0m\n\u001b[1;33m    2434876619904 my_first_list|[1,2,3,4,5]|\u001b[0m\n\u001b[1;37m                  ^\u001b[0m\n\u001b[1;31mSyntaxError\u001b[0m\u001b[1;31m:\u001b[0m invalid syntax\n"
     ]
    }
   ],
   "source": [
    "2434876619904 my_first_list|[1,2,3,4,5]|"
   ]
  },
  {
   "cell_type": "code",
   "execution_count": 5,
   "metadata": {},
   "outputs": [],
   "source": [
    "#lists\n",
    "\n",
    "list_1 = ['surgeclasses', 'move32', 2017, 2018] # both strings and int\n",
    "list_2 = [1, 2, 3, 4, 5, 6, 7 ]\n",
    "list_3 = [\"a\", \"b\", \"c\", \"d\"]"
   ]
  },
  {
   "cell_type": "code",
   "execution_count": 6,
   "metadata": {},
   "outputs": [
    {
     "data": {
      "text/plain": [
       "[1, 2, 3, 4, 5, 6, 7]"
      ]
     },
     "execution_count": 6,
     "metadata": {},
     "output_type": "execute_result"
    }
   ],
   "source": [
    "list_2"
   ]
  },
  {
   "cell_type": "code",
   "execution_count": 7,
   "metadata": {},
   "outputs": [
    {
     "data": {
      "text/plain": [
       "['surgeclasses', 'move32', 2017, 2018]"
      ]
     },
     "execution_count": 7,
     "metadata": {},
     "output_type": "execute_result"
    }
   ],
   "source": [
    "list_1"
   ]
  },
  {
   "cell_type": "code",
   "execution_count": 8,
   "metadata": {},
   "outputs": [
    {
     "data": {
      "text/plain": [
       "['a', 'b', 'c', 'd']"
      ]
     },
     "execution_count": 8,
     "metadata": {},
     "output_type": "execute_result"
    }
   ],
   "source": [
    "list_3"
   ]
  },
  {
   "cell_type": "code",
   "execution_count": 9,
   "metadata": {},
   "outputs": [
    {
     "data": {
      "text/plain": [
       "[1, 2, 3, 4, 5]"
      ]
     },
     "execution_count": 9,
     "metadata": {},
     "output_type": "execute_result"
    }
   ],
   "source": [
    "my_first_list\n",
    "\n",
    "#if i want to use this complete list, I will use list variable name"
   ]
  },
  {
   "cell_type": "code",
   "execution_count": null,
   "metadata": {},
   "outputs": [],
   "source": [
    "\"\"\"\n",
    "\n",
    "2618511602248 my_first_list|[1,2,3,4,5]|\n",
    "\n",
    "                    index    0,1,2,3,4\n",
    "    \n",
    "    \n",
    "    my_first_list[2]=3\n",
    "    \n",
    "    my_first_list[4]=5"
   ]
  },
  {
   "cell_type": "code",
   "execution_count": 10,
   "metadata": {},
   "outputs": [
    {
     "data": {
      "text/plain": [
       "4"
      ]
     },
     "execution_count": 10,
     "metadata": {},
     "output_type": "execute_result"
    }
   ],
   "source": [
    "my_first_list[3]"
   ]
  },
  {
   "cell_type": "code",
   "execution_count": 11,
   "metadata": {},
   "outputs": [
    {
     "data": {
      "text/plain": [
       "3"
      ]
     },
     "execution_count": 11,
     "metadata": {},
     "output_type": "execute_result"
    }
   ],
   "source": [
    "my_first_list[2]"
   ]
  },
  {
   "cell_type": "code",
   "execution_count": 12,
   "metadata": {},
   "outputs": [
    {
     "data": {
      "text/plain": [
       "[1, 2, 3, 4, 5, 6, 7]"
      ]
     },
     "execution_count": 12,
     "metadata": {},
     "output_type": "execute_result"
    }
   ],
   "source": [
    "list_2"
   ]
  },
  {
   "cell_type": "code",
   "execution_count": 13,
   "metadata": {},
   "outputs": [
    {
     "data": {
      "text/plain": [
       "4"
      ]
     },
     "execution_count": 13,
     "metadata": {},
     "output_type": "execute_result"
    }
   ],
   "source": [
    "list_2[3]"
   ]
  },
  {
   "cell_type": "code",
   "execution_count": null,
   "metadata": {},
   "outputs": [],
   "source": [
    "# to use individual elements in a list...... first we need to access it ..... \n",
    "\n",
    "#using index.... position of an element..... it starts with 0"
   ]
  },
  {
   "cell_type": "code",
   "execution_count": null,
   "metadata": {},
   "outputs": [],
   "source": [
    "#pandas "
   ]
  },
  {
   "cell_type": "code",
   "execution_count": 14,
   "metadata": {},
   "outputs": [],
   "source": [
    "list_2 = [1, 2, 3, 4, 5, 6, 7 ]\n",
    "\n",
    "#index: 0 to 6... +ve  left to right\n",
    "       # -1 to -len() -ve right to left"
   ]
  },
  {
   "cell_type": "code",
   "execution_count": 15,
   "metadata": {},
   "outputs": [
    {
     "data": {
      "text/plain": [
       "3"
      ]
     },
     "execution_count": 15,
     "metadata": {},
     "output_type": "execute_result"
    }
   ],
   "source": [
    "list_2[2]"
   ]
  },
  {
   "cell_type": "code",
   "execution_count": 16,
   "metadata": {},
   "outputs": [
    {
     "data": {
      "text/plain": [
       "7"
      ]
     },
     "execution_count": 16,
     "metadata": {},
     "output_type": "execute_result"
    }
   ],
   "source": [
    "list_2[-1]"
   ]
  },
  {
   "cell_type": "code",
   "execution_count": 18,
   "metadata": {},
   "outputs": [
    {
     "data": {
      "text/plain": [
       "5"
      ]
     },
     "execution_count": 18,
     "metadata": {},
     "output_type": "execute_result"
    }
   ],
   "source": [
    "list_2[-3]"
   ]
  },
  {
   "cell_type": "code",
   "execution_count": 17,
   "metadata": {},
   "outputs": [
    {
     "ename": "IndexError",
     "evalue": "list index out of range",
     "output_type": "error",
     "traceback": [
      "\u001b[1;31m---------------------------------------------------------------------------\u001b[0m",
      "\u001b[1;31mIndexError\u001b[0m                                Traceback (most recent call last)",
      "\u001b[1;32m~\\AppData\\Local\\Temp/ipykernel_13924/46673327.py\u001b[0m in \u001b[0;36m<module>\u001b[1;34m\u001b[0m\n\u001b[1;32m----> 1\u001b[1;33m \u001b[0mlist_2\u001b[0m\u001b[1;33m[\u001b[0m\u001b[1;36m7\u001b[0m\u001b[1;33m]\u001b[0m\u001b[1;33m\u001b[0m\u001b[1;33m\u001b[0m\u001b[0m\n\u001b[0m",
      "\u001b[1;31mIndexError\u001b[0m: list index out of range"
     ]
    }
   ],
   "source": [
    "list_2[7] "
   ]
  },
  {
   "cell_type": "code",
   "execution_count": 19,
   "metadata": {},
   "outputs": [
    {
     "data": {
      "text/plain": [
       "[1, 2, 3, 4, 5, 6, 7]"
      ]
     },
     "execution_count": 19,
     "metadata": {},
     "output_type": "execute_result"
    }
   ],
   "source": [
    "list_2"
   ]
  },
  {
   "cell_type": "code",
   "execution_count": 20,
   "metadata": {},
   "outputs": [
    {
     "data": {
      "text/plain": [
       "7"
      ]
     },
     "execution_count": 20,
     "metadata": {},
     "output_type": "execute_result"
    }
   ],
   "source": [
    "#len: length of the list.... no. of elements in a list\n",
    "\n",
    "len(list_2)\n",
    "\n",
    "#list2.append(20)\n"
   ]
  },
  {
   "cell_type": "code",
   "execution_count": 21,
   "metadata": {},
   "outputs": [
    {
     "data": {
      "text/plain": [
       "[1, 2, 3, 4, 5, 6, 7]"
      ]
     },
     "execution_count": 21,
     "metadata": {},
     "output_type": "execute_result"
    }
   ],
   "source": [
    "list_2"
   ]
  },
  {
   "cell_type": "code",
   "execution_count": 22,
   "metadata": {},
   "outputs": [
    {
     "data": {
      "text/plain": [
       "6"
      ]
     },
     "execution_count": 22,
     "metadata": {},
     "output_type": "execute_result"
    }
   ],
   "source": [
    "#what is the index of last element in a list in terms of len of a list?\n",
    "\n",
    "len(list_2)-1"
   ]
  },
  {
   "cell_type": "code",
   "execution_count": 23,
   "metadata": {},
   "outputs": [
    {
     "data": {
      "text/plain": [
       "['surgeclasses', 'move32', 2017, 2018]"
      ]
     },
     "execution_count": 23,
     "metadata": {},
     "output_type": "execute_result"
    }
   ],
   "source": [
    "list_1"
   ]
  },
  {
   "cell_type": "code",
   "execution_count": 24,
   "metadata": {},
   "outputs": [
    {
     "name": "stdout",
     "output_type": "stream",
     "text": [
      "1\n"
     ]
    }
   ],
   "source": [
    "print (list_2[0])\n"
   ]
  },
  {
   "cell_type": "code",
   "execution_count": null,
   "metadata": {},
   "outputs": [],
   "source": []
  },
  {
   "cell_type": "code",
   "execution_count": null,
   "metadata": {},
   "outputs": [],
   "source": [
    "#slicing"
   ]
  },
  {
   "cell_type": "code",
   "execution_count": 25,
   "metadata": {},
   "outputs": [],
   "source": [
    "req=[2, 10, 17, 25, 36, 47]"
   ]
  },
  {
   "cell_type": "code",
   "execution_count": 26,
   "metadata": {},
   "outputs": [
    {
     "data": {
      "text/plain": [
       "17"
      ]
     },
     "execution_count": 26,
     "metadata": {},
     "output_type": "execute_result"
    }
   ],
   "source": [
    "req[2]"
   ]
  },
  {
   "cell_type": "code",
   "execution_count": 27,
   "metadata": {},
   "outputs": [
    {
     "data": {
      "text/plain": [
       "[2, 10, 17, 25]"
      ]
     },
     "execution_count": 27,
     "metadata": {},
     "output_type": "execute_result"
    }
   ],
   "source": [
    "req[0:4]\n",
    "\n",
    "#slicing\n",
    "\n",
    "# from 0 to  till 4 (4th index is not included)"
   ]
  },
  {
   "cell_type": "code",
   "execution_count": 28,
   "metadata": {},
   "outputs": [
    {
     "data": {
      "text/plain": [
       "[10, 17]"
      ]
     },
     "execution_count": 28,
     "metadata": {},
     "output_type": "execute_result"
    }
   ],
   "source": [
    "req[1:3]"
   ]
  },
  {
   "cell_type": "code",
   "execution_count": 29,
   "metadata": {},
   "outputs": [
    {
     "data": {
      "text/plain": [
       "[25, 36, 47]"
      ]
     },
     "execution_count": 29,
     "metadata": {},
     "output_type": "execute_result"
    }
   ],
   "source": [
    "#[25,36,47]\n",
    "\n",
    "req[3:]"
   ]
  },
  {
   "cell_type": "code",
   "execution_count": 30,
   "metadata": {},
   "outputs": [
    {
     "data": {
      "text/plain": [
       "[2, 10, 17, 25]"
      ]
     },
     "execution_count": 30,
     "metadata": {},
     "output_type": "execute_result"
    }
   ],
   "source": [
    "req[:4]\n",
    "\n",
    "\n",
    "\n",
    "#from the start till 4th index and 4ht index is not included"
   ]
  },
  {
   "cell_type": "code",
   "execution_count": 31,
   "metadata": {},
   "outputs": [],
   "source": [
    "students_list=['Vijay','Reshma','Yeshwant','Vishwa','Shrusti','Namitha','Krishna','Ravi','Mahesh']"
   ]
  },
  {
   "cell_type": "code",
   "execution_count": 32,
   "metadata": {},
   "outputs": [
    {
     "data": {
      "text/plain": [
       "['Vishwa', 'Shrusti', 'Namitha']"
      ]
     },
     "execution_count": 32,
     "metadata": {},
     "output_type": "execute_result"
    }
   ],
   "source": [
    "students_list[3:6]\n",
    "\n",
    "#'Vishwa','Shrusti','Namitha'"
   ]
  },
  {
   "cell_type": "code",
   "execution_count": 33,
   "metadata": {},
   "outputs": [
    {
     "data": {
      "text/plain": [
       "['Yeshwant', 'Vishwa', 'Shrusti', 'Namitha', 'Krishna', 'Ravi', 'Mahesh']"
      ]
     },
     "execution_count": 33,
     "metadata": {},
     "output_type": "execute_result"
    }
   ],
   "source": [
    "students_list[2:]\n",
    "\n",
    "#'Yeshwant','Vishwa','Shrusti','Namitha','Krishna','Ravi','Mahesh'"
   ]
  },
  {
   "cell_type": "code",
   "execution_count": 34,
   "metadata": {},
   "outputs": [
    {
     "data": {
      "text/plain": [
       "['Vijay',\n",
       " 'Reshma',\n",
       " 'Yeshwant',\n",
       " 'Vishwa',\n",
       " 'Shrusti',\n",
       " 'Namitha',\n",
       " 'Krishna',\n",
       " 'Ravi']"
      ]
     },
     "execution_count": 34,
     "metadata": {},
     "output_type": "execute_result"
    }
   ],
   "source": [
    "students_list[:8]\n",
    "\n",
    "#'Vijay','Reshma','Yeshwant','Vishwa','Shrusti','Namitha','Krishna','Ravi'"
   ]
  },
  {
   "cell_type": "code",
   "execution_count": 35,
   "metadata": {},
   "outputs": [
    {
     "data": {
      "text/plain": [
       "['Vijay',\n",
       " 'Reshma',\n",
       " 'Yeshwant',\n",
       " 'Vishwa',\n",
       " 'Shrusti',\n",
       " 'Namitha',\n",
       " 'Krishna',\n",
       " 'Ravi',\n",
       " 'Mahesh']"
      ]
     },
     "execution_count": 35,
     "metadata": {},
     "output_type": "execute_result"
    }
   ],
   "source": [
    "students_list"
   ]
  },
  {
   "cell_type": "code",
   "execution_count": 36,
   "metadata": {},
   "outputs": [
    {
     "data": {
      "text/plain": [
       "['Vijay', 'Yeshwant', 'Shrusti', 'Krishna', 'Mahesh']"
      ]
     },
     "execution_count": 36,
     "metadata": {},
     "output_type": "execute_result"
    }
   ],
   "source": [
    "students_list[::2]"
   ]
  },
  {
   "cell_type": "code",
   "execution_count": 37,
   "metadata": {},
   "outputs": [
    {
     "data": {
      "text/plain": [
       "['Vijay', 'Vishwa', 'Krishna']"
      ]
     },
     "execution_count": 37,
     "metadata": {},
     "output_type": "execute_result"
    }
   ],
   "source": [
    "students_list[::3]"
   ]
  },
  {
   "cell_type": "code",
   "execution_count": null,
   "metadata": {},
   "outputs": [],
   "source": [
    "#Indexing and Slicing\n",
    "start => inclusive \n",
    "end => not inclusive \n",
    "\n",
    "#stride => 1 \n",
    "    1.  Alternate chars \n",
    "    2.  Direction \n",
    "            +ve => left to right \n",
    "            -ve => right to left"
   ]
  },
  {
   "cell_type": "code",
   "execution_count": 38,
   "metadata": {},
   "outputs": [],
   "source": [
    "list2=[1,2,3,4,5,6,7,8,9,10]\n",
    "\n",
    "#range.... stride concept"
   ]
  },
  {
   "cell_type": "code",
   "execution_count": null,
   "metadata": {},
   "outputs": [],
   "source": [
    "#list_1000=[1,2,3,...,1000]"
   ]
  },
  {
   "cell_type": "code",
   "execution_count": 39,
   "metadata": {},
   "outputs": [],
   "source": [
    "my_list=range(100)"
   ]
  },
  {
   "cell_type": "code",
   "execution_count": 40,
   "metadata": {},
   "outputs": [
    {
     "data": {
      "text/plain": [
       "range(0, 100)"
      ]
     },
     "execution_count": 40,
     "metadata": {},
     "output_type": "execute_result"
    }
   ],
   "source": [
    "my_list"
   ]
  },
  {
   "cell_type": "code",
   "execution_count": 41,
   "metadata": {},
   "outputs": [],
   "source": [
    "my_list=list(range(100))"
   ]
  },
  {
   "cell_type": "code",
   "execution_count": 42,
   "metadata": {},
   "outputs": [
    {
     "data": {
      "text/plain": [
       "[0,\n",
       " 1,\n",
       " 2,\n",
       " 3,\n",
       " 4,\n",
       " 5,\n",
       " 6,\n",
       " 7,\n",
       " 8,\n",
       " 9,\n",
       " 10,\n",
       " 11,\n",
       " 12,\n",
       " 13,\n",
       " 14,\n",
       " 15,\n",
       " 16,\n",
       " 17,\n",
       " 18,\n",
       " 19,\n",
       " 20,\n",
       " 21,\n",
       " 22,\n",
       " 23,\n",
       " 24,\n",
       " 25,\n",
       " 26,\n",
       " 27,\n",
       " 28,\n",
       " 29,\n",
       " 30,\n",
       " 31,\n",
       " 32,\n",
       " 33,\n",
       " 34,\n",
       " 35,\n",
       " 36,\n",
       " 37,\n",
       " 38,\n",
       " 39,\n",
       " 40,\n",
       " 41,\n",
       " 42,\n",
       " 43,\n",
       " 44,\n",
       " 45,\n",
       " 46,\n",
       " 47,\n",
       " 48,\n",
       " 49,\n",
       " 50,\n",
       " 51,\n",
       " 52,\n",
       " 53,\n",
       " 54,\n",
       " 55,\n",
       " 56,\n",
       " 57,\n",
       " 58,\n",
       " 59,\n",
       " 60,\n",
       " 61,\n",
       " 62,\n",
       " 63,\n",
       " 64,\n",
       " 65,\n",
       " 66,\n",
       " 67,\n",
       " 68,\n",
       " 69,\n",
       " 70,\n",
       " 71,\n",
       " 72,\n",
       " 73,\n",
       " 74,\n",
       " 75,\n",
       " 76,\n",
       " 77,\n",
       " 78,\n",
       " 79,\n",
       " 80,\n",
       " 81,\n",
       " 82,\n",
       " 83,\n",
       " 84,\n",
       " 85,\n",
       " 86,\n",
       " 87,\n",
       " 88,\n",
       " 89,\n",
       " 90,\n",
       " 91,\n",
       " 92,\n",
       " 93,\n",
       " 94,\n",
       " 95,\n",
       " 96,\n",
       " 97,\n",
       " 98,\n",
       " 99]"
      ]
     },
     "execution_count": 42,
     "metadata": {},
     "output_type": "execute_result"
    }
   ],
   "source": [
    "my_list"
   ]
  },
  {
   "cell_type": "code",
   "execution_count": 43,
   "metadata": {},
   "outputs": [
    {
     "data": {
      "text/plain": [
       "[1,\n",
       " 2,\n",
       " 3,\n",
       " 4,\n",
       " 5,\n",
       " 6,\n",
       " 7,\n",
       " 8,\n",
       " 9,\n",
       " 10,\n",
       " 11,\n",
       " 12,\n",
       " 13,\n",
       " 14,\n",
       " 15,\n",
       " 16,\n",
       " 17,\n",
       " 18,\n",
       " 19,\n",
       " 20,\n",
       " 21,\n",
       " 22,\n",
       " 23,\n",
       " 24,\n",
       " 25,\n",
       " 26,\n",
       " 27,\n",
       " 28,\n",
       " 29,\n",
       " 30,\n",
       " 31,\n",
       " 32,\n",
       " 33,\n",
       " 34,\n",
       " 35,\n",
       " 36,\n",
       " 37,\n",
       " 38,\n",
       " 39,\n",
       " 40,\n",
       " 41,\n",
       " 42,\n",
       " 43,\n",
       " 44,\n",
       " 45,\n",
       " 46,\n",
       " 47,\n",
       " 48,\n",
       " 49,\n",
       " 50,\n",
       " 51,\n",
       " 52,\n",
       " 53,\n",
       " 54,\n",
       " 55,\n",
       " 56,\n",
       " 57,\n",
       " 58,\n",
       " 59,\n",
       " 60,\n",
       " 61,\n",
       " 62,\n",
       " 63,\n",
       " 64,\n",
       " 65,\n",
       " 66,\n",
       " 67,\n",
       " 68,\n",
       " 69,\n",
       " 70,\n",
       " 71,\n",
       " 72,\n",
       " 73,\n",
       " 74,\n",
       " 75,\n",
       " 76,\n",
       " 77,\n",
       " 78,\n",
       " 79,\n",
       " 80,\n",
       " 81,\n",
       " 82,\n",
       " 83,\n",
       " 84,\n",
       " 85,\n",
       " 86,\n",
       " 87,\n",
       " 88,\n",
       " 89,\n",
       " 90,\n",
       " 91,\n",
       " 92,\n",
       " 93,\n",
       " 94,\n",
       " 95,\n",
       " 96,\n",
       " 97,\n",
       " 98,\n",
       " 99,\n",
       " 100]"
      ]
     },
     "execution_count": 43,
     "metadata": {},
     "output_type": "execute_result"
    }
   ],
   "source": [
    "my_list1= list(range(1,101))\n",
    "\n",
    "my_list1"
   ]
  },
  {
   "cell_type": "code",
   "execution_count": 44,
   "metadata": {},
   "outputs": [
    {
     "data": {
      "text/plain": [
       "range(0, 10)"
      ]
     },
     "execution_count": 44,
     "metadata": {},
     "output_type": "execute_result"
    }
   ],
   "source": [
    "range(10)"
   ]
  },
  {
   "cell_type": "code",
   "execution_count": 45,
   "metadata": {},
   "outputs": [
    {
     "name": "stdout",
     "output_type": "stream",
     "text": [
      "1\n",
      "2\n",
      "3\n",
      "4\n",
      "5\n",
      "6\n",
      "7\n",
      "8\n",
      "9\n",
      "10\n"
     ]
    }
   ],
   "source": [
    "for i in [1,2,3,4,5,6,7,8,9,10]:\n",
    "    print(i)"
   ]
  },
  {
   "cell_type": "code",
   "execution_count": 46,
   "metadata": {},
   "outputs": [
    {
     "name": "stdout",
     "output_type": "stream",
     "text": [
      "0\n",
      "1\n",
      "2\n",
      "3\n",
      "4\n",
      "5\n",
      "6\n",
      "7\n",
      "8\n",
      "9\n"
     ]
    }
   ],
   "source": [
    "for i in range(10):\n",
    "    print(i)"
   ]
  },
  {
   "cell_type": "code",
   "execution_count": null,
   "metadata": {},
   "outputs": [],
   "source": [
    "#np.arrange()"
   ]
  },
  {
   "cell_type": "code",
   "execution_count": 47,
   "metadata": {},
   "outputs": [
    {
     "data": {
      "text/plain": [
       "[0,\n",
       " 2,\n",
       " 4,\n",
       " 6,\n",
       " 8,\n",
       " 10,\n",
       " 12,\n",
       " 14,\n",
       " 16,\n",
       " 18,\n",
       " 20,\n",
       " 22,\n",
       " 24,\n",
       " 26,\n",
       " 28,\n",
       " 30,\n",
       " 32,\n",
       " 34,\n",
       " 36,\n",
       " 38,\n",
       " 40,\n",
       " 42,\n",
       " 44,\n",
       " 46,\n",
       " 48,\n",
       " 50,\n",
       " 52,\n",
       " 54,\n",
       " 56,\n",
       " 58,\n",
       " 60,\n",
       " 62,\n",
       " 64,\n",
       " 66,\n",
       " 68,\n",
       " 70,\n",
       " 72,\n",
       " 74,\n",
       " 76,\n",
       " 78,\n",
       " 80,\n",
       " 82,\n",
       " 84,\n",
       " 86,\n",
       " 88,\n",
       " 90,\n",
       " 92,\n",
       " 94,\n",
       " 96,\n",
       " 98,\n",
       " 100]"
      ]
     },
     "execution_count": 47,
     "metadata": {},
     "output_type": "execute_result"
    }
   ],
   "source": [
    "my_list1= list(range(0,102,2))\n",
    "\n",
    "#stride\n",
    "\n",
    "my_list1"
   ]
  },
  {
   "cell_type": "code",
   "execution_count": 48,
   "metadata": {},
   "outputs": [
    {
     "data": {
      "text/plain": [
       "[1, 2, 3, 4, 5, 6, 7, 8, 9, 10]"
      ]
     },
     "execution_count": 48,
     "metadata": {},
     "output_type": "execute_result"
    }
   ],
   "source": [
    "#1 to 10\n",
    "\n",
    "list(range(1,11))"
   ]
  },
  {
   "cell_type": "code",
   "execution_count": 49,
   "metadata": {},
   "outputs": [
    {
     "data": {
      "text/plain": [
       "[0, 1, 2, 3, 4, 5, 6, 7, 8, 9, 10]"
      ]
     },
     "execution_count": 49,
     "metadata": {},
     "output_type": "execute_result"
    }
   ],
   "source": [
    "#0 to 10\n",
    "list(range(11))"
   ]
  },
  {
   "cell_type": "code",
   "execution_count": 50,
   "metadata": {},
   "outputs": [
    {
     "data": {
      "text/plain": [
       "[0, 2, 4, 6, 8, 10]"
      ]
     },
     "execution_count": 50,
     "metadata": {},
     "output_type": "execute_result"
    }
   ],
   "source": [
    "list(range(0,11,2))"
   ]
  },
  {
   "cell_type": "code",
   "execution_count": 51,
   "metadata": {},
   "outputs": [
    {
     "data": {
      "text/plain": [
       "[0, 3, 6, 9]"
      ]
     },
     "execution_count": 51,
     "metadata": {},
     "output_type": "execute_result"
    }
   ],
   "source": [
    "list(range(0,11,3))"
   ]
  },
  {
   "cell_type": "code",
   "execution_count": null,
   "metadata": {},
   "outputs": [],
   "source": [
    "#Indexing and Slicing\n",
    "start => inclusive \n",
    "end => not inclusive \n",
    "stride => 1 \n",
    "    1.  Alternate chars \n",
    "    2.  Direction \n",
    "            +ve => left to right \n",
    "            -ve => right to left"
   ]
  },
  {
   "cell_type": "code",
   "execution_count": 52,
   "metadata": {},
   "outputs": [],
   "source": [
    "list_1=['a','b','c','d']"
   ]
  },
  {
   "cell_type": "code",
   "execution_count": null,
   "metadata": {},
   "outputs": [],
   "source": []
  },
  {
   "cell_type": "code",
   "execution_count": 53,
   "metadata": {},
   "outputs": [
    {
     "name": "stdout",
     "output_type": "stream",
     "text": [
      "a\n",
      "b\n",
      "c\n",
      "d\n"
     ]
    }
   ],
   "source": [
    "for i in list_1:\n",
    "    print(i)"
   ]
  },
  {
   "cell_type": "code",
   "execution_count": 54,
   "metadata": {},
   "outputs": [
    {
     "name": "stdout",
     "output_type": "stream",
     "text": [
      "0\n",
      "1\n",
      "2\n",
      "3\n"
     ]
    }
   ],
   "source": [
    "for i in range(len(list_1)):\n",
    "    print(i)"
   ]
  },
  {
   "cell_type": "code",
   "execution_count": 55,
   "metadata": {},
   "outputs": [
    {
     "data": {
      "text/plain": [
       "4"
      ]
     },
     "execution_count": 55,
     "metadata": {},
     "output_type": "execute_result"
    }
   ],
   "source": [
    "len(list_1)"
   ]
  },
  {
   "cell_type": "code",
   "execution_count": 56,
   "metadata": {},
   "outputs": [
    {
     "data": {
      "text/plain": [
       "range(0, 4)"
      ]
     },
     "execution_count": 56,
     "metadata": {},
     "output_type": "execute_result"
    }
   ],
   "source": [
    "range(len(list_1))"
   ]
  },
  {
   "cell_type": "code",
   "execution_count": 57,
   "metadata": {},
   "outputs": [
    {
     "data": {
      "text/plain": [
       "[0, 1, 2, 3]"
      ]
     },
     "execution_count": 57,
     "metadata": {},
     "output_type": "execute_result"
    }
   ],
   "source": [
    "gen_list=list(range(len(list_1)))\n",
    "\n",
    "gen_list\n",
    "\n",
    "#list(range(4)"
   ]
  },
  {
   "cell_type": "code",
   "execution_count": 58,
   "metadata": {},
   "outputs": [],
   "source": [
    "index_of_the_list_1=list(range(len(list_1)))"
   ]
  },
  {
   "cell_type": "code",
   "execution_count": 59,
   "metadata": {},
   "outputs": [
    {
     "data": {
      "text/plain": [
       "[0, 1, 2, 3]"
      ]
     },
     "execution_count": 59,
     "metadata": {},
     "output_type": "execute_result"
    }
   ],
   "source": [
    "index_of_the_list_1"
   ]
  },
  {
   "cell_type": "code",
   "execution_count": 60,
   "metadata": {},
   "outputs": [],
   "source": [
    "list_2=['a','b','c','d','e']"
   ]
  },
  {
   "cell_type": "code",
   "execution_count": 61,
   "metadata": {},
   "outputs": [],
   "source": [
    "gen_list_1=list(range(len(list_2)))"
   ]
  },
  {
   "cell_type": "code",
   "execution_count": 62,
   "metadata": {},
   "outputs": [
    {
     "data": {
      "text/plain": [
       "[0, 1, 2, 3, 4]"
      ]
     },
     "execution_count": 62,
     "metadata": {},
     "output_type": "execute_result"
    }
   ],
   "source": [
    "gen_list_1"
   ]
  },
  {
   "cell_type": "code",
   "execution_count": 63,
   "metadata": {},
   "outputs": [
    {
     "ename": "NameError",
     "evalue": "name 'iterator' is not defined",
     "output_type": "error",
     "traceback": [
      "\u001b[1;31m---------------------------------------------------------------------------\u001b[0m",
      "\u001b[1;31mNameError\u001b[0m                                 Traceback (most recent call last)",
      "Input \u001b[1;32mIn [63]\u001b[0m, in \u001b[0;36m<cell line: 1>\u001b[1;34m()\u001b[0m\n\u001b[1;32m----> 1\u001b[0m \u001b[38;5;28;01mfor\u001b[39;00m i \u001b[38;5;129;01min\u001b[39;00m \u001b[43miterator\u001b[49m:\n\u001b[0;32m      2\u001b[0m     \u001b[38;5;28mprint\u001b[39m(i)\n\u001b[0;32m      4\u001b[0m \u001b[38;5;28;01mfor\u001b[39;00m i \u001b[38;5;129;01min\u001b[39;00m list_1:\n",
      "\u001b[1;31mNameError\u001b[0m: name 'iterator' is not defined"
     ]
    }
   ],
   "source": [
    "for i in iterator:\n",
    "    print(i)\n",
    "    \n",
    "for i in list_1:\n",
    "    print(i)\n",
    "    \n",
    "for i in string_1:\n",
    "    print(i)\n",
    "    \n",
    "for i in range():\n",
    "    print(i)"
   ]
  },
  {
   "cell_type": "code",
   "execution_count": 64,
   "metadata": {},
   "outputs": [
    {
     "data": {
      "text/plain": [
       "['a', 'b', 'c', 'd']"
      ]
     },
     "execution_count": 64,
     "metadata": {},
     "output_type": "execute_result"
    }
   ],
   "source": [
    "list_1"
   ]
  },
  {
   "cell_type": "code",
   "execution_count": 65,
   "metadata": {},
   "outputs": [
    {
     "data": {
      "text/plain": [
       "4"
      ]
     },
     "execution_count": 65,
     "metadata": {},
     "output_type": "execute_result"
    }
   ],
   "source": [
    "len(list_1)"
   ]
  },
  {
   "cell_type": "code",
   "execution_count": 66,
   "metadata": {},
   "outputs": [
    {
     "data": {
      "text/plain": [
       "range(0, 4)"
      ]
     },
     "execution_count": 66,
     "metadata": {},
     "output_type": "execute_result"
    }
   ],
   "source": [
    "range(len(list_1))"
   ]
  },
  {
   "cell_type": "code",
   "execution_count": 67,
   "metadata": {},
   "outputs": [
    {
     "name": "stdout",
     "output_type": "stream",
     "text": [
      "0\n",
      "1\n",
      "2\n",
      "3\n"
     ]
    }
   ],
   "source": [
    "for i in range(len(list_1)):\n",
    "    print(i)"
   ]
  },
  {
   "cell_type": "code",
   "execution_count": 68,
   "metadata": {},
   "outputs": [
    {
     "data": {
      "text/plain": [
       "[0, 1, 2, 3]"
      ]
     },
     "execution_count": 68,
     "metadata": {},
     "output_type": "execute_result"
    }
   ],
   "source": [
    "list(range(len(list_1)))"
   ]
  },
  {
   "cell_type": "code",
   "execution_count": 69,
   "metadata": {},
   "outputs": [
    {
     "name": "stdout",
     "output_type": "stream",
     "text": [
      "0\n",
      "1\n",
      "2\n",
      "3\n"
     ]
    }
   ],
   "source": [
    "for i in list(range(len(list_1))):\n",
    "    print(i)"
   ]
  },
  {
   "cell_type": "code",
   "execution_count": 72,
   "metadata": {},
   "outputs": [
    {
     "data": {
      "text/plain": [
       "['a', 'b', 'c', 'd']"
      ]
     },
     "execution_count": 72,
     "metadata": {},
     "output_type": "execute_result"
    }
   ],
   "source": [
    "list_1"
   ]
  },
  {
   "cell_type": "code",
   "execution_count": 73,
   "metadata": {},
   "outputs": [
    {
     "name": "stdout",
     "output_type": "stream",
     "text": [
      "a\n"
     ]
    }
   ],
   "source": [
    "print ( list_1[0])"
   ]
  },
  {
   "cell_type": "code",
   "execution_count": 74,
   "metadata": {},
   "outputs": [
    {
     "name": "stdout",
     "output_type": "stream",
     "text": [
      "list_1[0]: \n"
     ]
    }
   ],
   "source": [
    "print (\"list_1[0]: \")"
   ]
  },
  {
   "cell_type": "code",
   "execution_count": 76,
   "metadata": {},
   "outputs": [
    {
     "name": "stdout",
     "output_type": "stream",
     "text": [
      "list_1[0]:  a\n",
      "list_2[1:5]:  ['b', 'c', 'd', 'e']\n"
     ]
    }
   ],
   "source": [
    "print (\"list_1[0]: \", list_1[0])\n",
    "print (\"list_2[1:5]: \", list_2[1:5])"
   ]
  },
  {
   "cell_type": "code",
   "execution_count": 77,
   "metadata": {},
   "outputs": [
    {
     "name": "stdout",
     "output_type": "stream",
     "text": [
      "My Name is Surge Classes\n"
     ]
    }
   ],
   "source": [
    "name='Surge Classes'\n",
    "print('My Name is',name)"
   ]
  },
  {
   "cell_type": "code",
   "execution_count": 78,
   "metadata": {},
   "outputs": [
    {
     "name": "stdout",
     "output_type": "stream",
     "text": [
      "My Name is Jalla Labs Pvt. Ltd.\n"
     ]
    }
   ],
   "source": [
    "name='Jalla Labs Pvt. Ltd.'\n",
    "print('My Name is',name)"
   ]
  },
  {
   "cell_type": "code",
   "execution_count": 79,
   "metadata": {},
   "outputs": [
    {
     "data": {
      "text/plain": [
       "3"
      ]
     },
     "execution_count": 79,
     "metadata": {},
     "output_type": "execute_result"
    }
   ],
   "source": [
    "list = [1, 2, 3, 4, 5, 6, 7 ]\n",
    "\n",
    "#indexing\n",
    "list[2]"
   ]
  },
  {
   "cell_type": "code",
   "execution_count": 80,
   "metadata": {},
   "outputs": [
    {
     "data": {
      "text/plain": [
       "[2, 3]"
      ]
     },
     "execution_count": 80,
     "metadata": {},
     "output_type": "execute_result"
    }
   ],
   "source": [
    "#slicing\n",
    "list[1:3]"
   ]
  },
  {
   "cell_type": "code",
   "execution_count": 81,
   "metadata": {},
   "outputs": [
    {
     "data": {
      "text/plain": [
       "6"
      ]
     },
     "execution_count": 81,
     "metadata": {},
     "output_type": "execute_result"
    }
   ],
   "source": [
    "list[5]\n"
   ]
  },
  {
   "cell_type": "code",
   "execution_count": 82,
   "metadata": {},
   "outputs": [
    {
     "data": {
      "text/plain": [
       "[1, 2, 3, 4, 5, 6, 7]"
      ]
     },
     "execution_count": 82,
     "metadata": {},
     "output_type": "execute_result"
    }
   ],
   "source": [
    "list"
   ]
  },
  {
   "cell_type": "code",
   "execution_count": 83,
   "metadata": {},
   "outputs": [],
   "source": [
    "#updating lists\n",
    "list[5]=2000"
   ]
  },
  {
   "cell_type": "code",
   "execution_count": 84,
   "metadata": {},
   "outputs": [
    {
     "data": {
      "text/plain": [
       "[1, 2, 3, 4, 5, 2000, 7]"
      ]
     },
     "execution_count": 84,
     "metadata": {},
     "output_type": "execute_result"
    }
   ],
   "source": [
    "list"
   ]
  },
  {
   "cell_type": "code",
   "execution_count": 85,
   "metadata": {},
   "outputs": [
    {
     "data": {
      "text/plain": [
       "[1, 2, 4, 5, 2000, 7]"
      ]
     },
     "execution_count": 85,
     "metadata": {},
     "output_type": "execute_result"
    }
   ],
   "source": [
    "\n",
    "#deleting an element in a list\n",
    "del(list[2])\n",
    "\n",
    "list"
   ]
  },
  {
   "cell_type": "code",
   "execution_count": null,
   "metadata": {},
   "outputs": [],
   "source": [
    "#we can add, update and del....\n",
    "\n",
    "#list is mutable"
   ]
  },
  {
   "cell_type": "code",
   "execution_count": 86,
   "metadata": {},
   "outputs": [],
   "source": [
    "list_2=[1,25,34]"
   ]
  },
  {
   "cell_type": "code",
   "execution_count": 87,
   "metadata": {},
   "outputs": [
    {
     "data": {
      "text/plain": [
       "[1, 25, 34]"
      ]
     },
     "execution_count": 87,
     "metadata": {},
     "output_type": "execute_result"
    }
   ],
   "source": [
    "list_2"
   ]
  },
  {
   "cell_type": "code",
   "execution_count": 88,
   "metadata": {},
   "outputs": [
    {
     "data": {
      "text/plain": [
       "['a', 'b', 'c', 'd']"
      ]
     },
     "execution_count": 88,
     "metadata": {},
     "output_type": "execute_result"
    }
   ],
   "source": [
    "list_1"
   ]
  },
  {
   "cell_type": "code",
   "execution_count": 89,
   "metadata": {},
   "outputs": [
    {
     "data": {
      "text/plain": [
       "[1, 25, 34, 'a', 'b', 'c', 'd']"
      ]
     },
     "execution_count": 89,
     "metadata": {},
     "output_type": "execute_result"
    }
   ],
   "source": [
    "list_2+list_1"
   ]
  },
  {
   "cell_type": "code",
   "execution_count": 90,
   "metadata": {},
   "outputs": [
    {
     "data": {
      "text/plain": [
       "[1, 25, 34]"
      ]
     },
     "execution_count": 90,
     "metadata": {},
     "output_type": "execute_result"
    }
   ],
   "source": [
    "list_2"
   ]
  },
  {
   "cell_type": "code",
   "execution_count": null,
   "metadata": {},
   "outputs": [],
   "source": [
    "#list_2=list_2+list_1"
   ]
  },
  {
   "cell_type": "code",
   "execution_count": 91,
   "metadata": {},
   "outputs": [
    {
     "data": {
      "text/plain": [
       "[1, 25, 34, 1, 25, 34, 1, 25, 34]"
      ]
     },
     "execution_count": 91,
     "metadata": {},
     "output_type": "execute_result"
    }
   ],
   "source": [
    "my_final_list=list_2*3\n",
    "\n",
    "my_final_list\n",
    "\n",
    "#Information Value and Weight of Evidence"
   ]
  },
  {
   "cell_type": "code",
   "execution_count": 92,
   "metadata": {},
   "outputs": [],
   "source": [
    "n=10"
   ]
  },
  {
   "cell_type": "code",
   "execution_count": 93,
   "metadata": {},
   "outputs": [
    {
     "data": {
      "text/plain": [
       "[1, 1, 1, 1, 1, 1, 1, 1, 1, 1]"
      ]
     },
     "execution_count": 93,
     "metadata": {},
     "output_type": "execute_result"
    }
   ],
   "source": [
    "my_final_list=[1]*n\n",
    "\n",
    "my_final_list"
   ]
  },
  {
   "cell_type": "code",
   "execution_count": 94,
   "metadata": {},
   "outputs": [
    {
     "data": {
      "text/plain": [
       "[0, 0, 0, 0, 0, 0, 0, 0, 0, 0]"
      ]
     },
     "execution_count": 94,
     "metadata": {},
     "output_type": "execute_result"
    }
   ],
   "source": [
    "my_final_list=[0]*n\n",
    "\n",
    "my_final_list"
   ]
  },
  {
   "cell_type": "code",
   "execution_count": 95,
   "metadata": {},
   "outputs": [
    {
     "data": {
      "text/plain": [
       "[1, 2, 3, 4, 5, 6]"
      ]
     },
     "execution_count": 95,
     "metadata": {},
     "output_type": "execute_result"
    }
   ],
   "source": [
    "list_1=[1,2,3,4,5,6]\n",
    "\n",
    "list_1"
   ]
  },
  {
   "cell_type": "code",
   "execution_count": 96,
   "metadata": {},
   "outputs": [
    {
     "data": {
      "text/plain": [
       "[1, 2, 3, 4, 5, 6, 20]"
      ]
     },
     "execution_count": 96,
     "metadata": {},
     "output_type": "execute_result"
    }
   ],
   "source": [
    "list_1.append(20)\n",
    "\n",
    "list_1"
   ]
  },
  {
   "cell_type": "code",
   "execution_count": 97,
   "metadata": {},
   "outputs": [
    {
     "data": {
      "text/plain": [
       "[1, 2, 3, 4, 5, 6]"
      ]
     },
     "execution_count": 97,
     "metadata": {},
     "output_type": "execute_result"
    }
   ],
   "source": [
    "list_1=[1,2,3,4,5,6]\n",
    "\n",
    "list_1"
   ]
  },
  {
   "cell_type": "code",
   "execution_count": 98,
   "metadata": {},
   "outputs": [],
   "source": [
    "list_2=[100,200,400]\n",
    "\n",
    "list_1.append(list_2)"
   ]
  },
  {
   "cell_type": "code",
   "execution_count": 99,
   "metadata": {},
   "outputs": [
    {
     "data": {
      "text/plain": [
       "[1, 2, 3, 4, 5, 6, [100, 200, 400]]"
      ]
     },
     "execution_count": 99,
     "metadata": {},
     "output_type": "execute_result"
    }
   ],
   "source": [
    "list_1"
   ]
  },
  {
   "cell_type": "code",
   "execution_count": 100,
   "metadata": {},
   "outputs": [
    {
     "data": {
      "text/plain": [
       "[1, 2, 3, 4, 5, 6]"
      ]
     },
     "execution_count": 100,
     "metadata": {},
     "output_type": "execute_result"
    }
   ],
   "source": [
    "list_1=[1,2,3,4,5,6]\n",
    "\n",
    "list_1"
   ]
  },
  {
   "cell_type": "code",
   "execution_count": 101,
   "metadata": {},
   "outputs": [],
   "source": [
    "list_1.extend(list_2)"
   ]
  },
  {
   "cell_type": "code",
   "execution_count": 102,
   "metadata": {},
   "outputs": [
    {
     "data": {
      "text/plain": [
       "[1, 2, 3, 4, 5, 6, 100, 200, 400]"
      ]
     },
     "execution_count": 102,
     "metadata": {},
     "output_type": "execute_result"
    }
   ],
   "source": [
    "list_1"
   ]
  },
  {
   "cell_type": "code",
   "execution_count": null,
   "metadata": {},
   "outputs": [],
   "source": [
    "#[1, 2, 3, 4, 5, 6, 100, 200, 400]"
   ]
  },
  {
   "cell_type": "code",
   "execution_count": 103,
   "metadata": {},
   "outputs": [
    {
     "data": {
      "text/plain": [
       "[1, 2, 3, 4, 5, 6]"
      ]
     },
     "execution_count": 103,
     "metadata": {},
     "output_type": "execute_result"
    }
   ],
   "source": [
    "list_1=[1,2,3,4,5,6]\n",
    "\n",
    "list_1\n"
   ]
  },
  {
   "cell_type": "code",
   "execution_count": 104,
   "metadata": {},
   "outputs": [
    {
     "data": {
      "text/plain": [
       "[1, 2, 3, 4, 5, 6, 100, 200, 400]"
      ]
     },
     "execution_count": 104,
     "metadata": {},
     "output_type": "execute_result"
    }
   ],
   "source": [
    "\n",
    "list_1.extend(list_2)\n",
    "\n",
    "list_1\n"
   ]
  },
  {
   "cell_type": "code",
   "execution_count": null,
   "metadata": {},
   "outputs": [],
   "source": [
    "Information Value and Weight of Evidence.... feature slection technique...... predictive power \n",
    "\n",
    "this is not given by python packges.... \n",
    "\n",
    "logistic regression or Tree based modelling\n",
    "\n",
    "pred proba\n",
    "\n",
    "deciles\n",
    "\n",
    "gain charts and lift charts\n",
    "\n",
    "customer analysis\n",
    "\n",
    "banking and fin,, insurance"
   ]
  },
  {
   "cell_type": "code",
   "execution_count": null,
   "metadata": {},
   "outputs": [],
   "source": [
    "#concatenation\n",
    "#repitation\n",
    "#len\n",
    "#negative slicing"
   ]
  },
  {
   "cell_type": "code",
   "execution_count": null,
   "metadata": {},
   "outputs": [],
   "source": [
    "#Also there are other functions for lists"
   ]
  },
  {
   "cell_type": "code",
   "execution_count": 105,
   "metadata": {},
   "outputs": [
    {
     "data": {
      "text/plain": [
       "9"
      ]
     },
     "execution_count": 105,
     "metadata": {},
     "output_type": "execute_result"
    }
   ],
   "source": [
    "# to add or insert an element at the end of the list append\n",
    "\n",
    "#to add a list at the end of a list: extend\n",
    "\n",
    "len(list_1)\n",
    "\n"
   ]
  },
  {
   "cell_type": "code",
   "execution_count": 106,
   "metadata": {},
   "outputs": [
    {
     "data": {
      "text/plain": [
       "1"
      ]
     },
     "execution_count": 106,
     "metadata": {},
     "output_type": "execute_result"
    }
   ],
   "source": [
    "list_1.count(2)"
   ]
  },
  {
   "cell_type": "code",
   "execution_count": 107,
   "metadata": {},
   "outputs": [
    {
     "ename": "SyntaxError",
     "evalue": "invalid syntax (3550617779.py, line 1)",
     "output_type": "error",
     "traceback": [
      "\u001b[1;36m  Input \u001b[1;32mIn [107]\u001b[1;36m\u001b[0m\n\u001b[1;33m    Surge Class\u001b[0m\n\u001b[1;37m          ^\u001b[0m\n\u001b[1;31mSyntaxError\u001b[0m\u001b[1;31m:\u001b[0m invalid syntax\n"
     ]
    }
   ],
   "source": [
    "Surge Class \n",
    "\n",
    "student service portal\n",
    "\n",
    "(Customer) service department\n",
    "\n",
    "doubt clarification\n",
    "\n",
    "problems tickets\n",
    "\n",
    "Name\n",
    "Id\n",
    "\n",
    "time\n",
    "\n",
    "what si the doubt?\n",
    "\n",
    "Vishwa\n",
    "\n",
    "NLP project\n",
    "\n",
    "Customised Named Entity Recogniser\n",
    "\n",
    "Jupiter notebook Id\n",
    "\n",
    "there he will write \n",
    "\n",
    "\"I have imported spacy package but could not create doc objects for my strings and it is showing below error. I have also tried this particular code but could not resove the issue\"\n",
    "\n",
    "attachment:screenshot\n",
    "    \n"
   ]
  },
  {
   "cell_type": "code",
   "execution_count": null,
   "metadata": {},
   "outputs": [],
   "source": [
    "software should solve the issue.....\n",
    "\n",
    "Topic Modelling\n",
    "\n",
    "Natural Language processing\n"
   ]
  },
  {
   "cell_type": "code",
   "execution_count": null,
   "metadata": {},
   "outputs": [],
   "source": []
  },
  {
   "cell_type": "code",
   "execution_count": null,
   "metadata": {},
   "outputs": [],
   "source": [
    "#strings"
   ]
  },
  {
   "cell_type": "code",
   "execution_count": null,
   "metadata": {},
   "outputs": [],
   "source": [
    "#char='a'"
   ]
  },
  {
   "cell_type": "code",
   "execution_count": 108,
   "metadata": {},
   "outputs": [],
   "source": [
    "s1 = \"Python\""
   ]
  },
  {
   "cell_type": "code",
   "execution_count": 109,
   "metadata": {},
   "outputs": [
    {
     "name": "stdout",
     "output_type": "stream",
     "text": [
      "<class 'str'>\n",
      "1387819620464\n"
     ]
    }
   ],
   "source": [
    "print(type(s1))\n",
    "print(id(s1))"
   ]
  },
  {
   "cell_type": "code",
   "execution_count": 110,
   "metadata": {},
   "outputs": [],
   "source": [
    "s1 = \"Python is easy to learn\""
   ]
  },
  {
   "cell_type": "code",
   "execution_count": 111,
   "metadata": {},
   "outputs": [
    {
     "data": {
      "text/plain": [
       "'Python is easy to learn'"
      ]
     },
     "execution_count": 111,
     "metadata": {},
     "output_type": "execute_result"
    }
   ],
   "source": [
    "s1"
   ]
  },
  {
   "cell_type": "code",
   "execution_count": null,
   "metadata": {},
   "outputs": [],
   "source": [
    "#accessing individual element of string"
   ]
  },
  {
   "cell_type": "code",
   "execution_count": 112,
   "metadata": {},
   "outputs": [
    {
     "name": "stdout",
     "output_type": "stream",
     "text": [
      "e\n"
     ]
    }
   ],
   "source": [
    "print(s1[10])"
   ]
  },
  {
   "cell_type": "code",
   "execution_count": 113,
   "metadata": {},
   "outputs": [
    {
     "name": "stdout",
     "output_type": "stream",
     "text": [
      "e\n"
     ]
    }
   ],
   "source": [
    "print(s1[-13])\n"
   ]
  },
  {
   "cell_type": "code",
   "execution_count": 114,
   "metadata": {},
   "outputs": [
    {
     "name": "stdout",
     "output_type": "stream",
     "text": [
      "y\n"
     ]
    }
   ],
   "source": [
    "print(s1[1])"
   ]
  },
  {
   "cell_type": "code",
   "execution_count": 115,
   "metadata": {},
   "outputs": [],
   "source": [
    "s1 = \"Python is easy to learn\""
   ]
  },
  {
   "cell_type": "code",
   "execution_count": 116,
   "metadata": {},
   "outputs": [
    {
     "name": "stdout",
     "output_type": "stream",
     "text": [
      "thon\n"
     ]
    }
   ],
   "source": [
    "#slicing\n",
    "print(s1[2:6])"
   ]
  },
  {
   "cell_type": "code",
   "execution_count": 117,
   "metadata": {},
   "outputs": [
    {
     "name": "stdout",
     "output_type": "stream",
     "text": [
      "Python\n"
     ]
    }
   ],
   "source": [
    "print(s1[:6])"
   ]
  },
  {
   "cell_type": "code",
   "execution_count": 118,
   "metadata": {},
   "outputs": [
    {
     "name": "stdout",
     "output_type": "stream",
     "text": [
      "is easy to learn\n"
     ]
    }
   ],
   "source": [
    "print(s1[7:])"
   ]
  },
  {
   "cell_type": "code",
   "execution_count": 119,
   "metadata": {},
   "outputs": [
    {
     "name": "stdout",
     "output_type": "stream",
     "text": [
      "PythonJava\n"
     ]
    }
   ],
   "source": [
    "s1 = \"Python\"\n",
    "s2 = \"Java\"\n",
    "print(s1 + s2)#concatenation"
   ]
  },
  {
   "cell_type": "code",
   "execution_count": 120,
   "metadata": {},
   "outputs": [
    {
     "name": "stdout",
     "output_type": "stream",
     "text": [
      "PythonPython\n"
     ]
    }
   ],
   "source": [
    "print(2 * s1)"
   ]
  },
  {
   "cell_type": "code",
   "execution_count": 121,
   "metadata": {},
   "outputs": [],
   "source": [
    "s='vishwa,krishna'"
   ]
  },
  {
   "cell_type": "code",
   "execution_count": 122,
   "metadata": {},
   "outputs": [
    {
     "data": {
      "text/plain": [
       "'vishwa,krishna'"
      ]
     },
     "execution_count": 122,
     "metadata": {},
     "output_type": "execute_result"
    }
   ],
   "source": [
    "s"
   ]
  },
  {
   "cell_type": "code",
   "execution_count": 126,
   "metadata": {},
   "outputs": [
    {
     "name": "stdout",
     "output_type": "stream",
     "text": [
      "['vishwa', 'krishna']\n"
     ]
    }
   ],
   "source": [
    "l=s.split(',')\n",
    "\n",
    "print(l)"
   ]
  },
  {
   "cell_type": "code",
   "execution_count": 127,
   "metadata": {},
   "outputs": [
    {
     "name": "stdout",
     "output_type": "stream",
     "text": [
      "['vishwa', 'krishna', 'vijay', 'yeshwant', 'namitha']\n"
     ]
    }
   ],
   "source": [
    "s='vishwa,krishna,vijay,yeshwant,namitha'\n",
    "\n",
    "l=s.split(',')\n",
    "\n",
    "print(l)"
   ]
  },
  {
   "cell_type": "code",
   "execution_count": 128,
   "metadata": {},
   "outputs": [
    {
     "name": "stdout",
     "output_type": "stream",
     "text": [
      "['py', 'on,java,c,c++,r']\n"
     ]
    }
   ],
   "source": [
    "#important\n",
    "s = \"python,java,c,c++,r\"\n",
    "l = s.split(\"th\")\n",
    "print(l)"
   ]
  },
  {
   "cell_type": "code",
   "execution_count": 129,
   "metadata": {},
   "outputs": [
    {
     "name": "stdout",
     "output_type": "stream",
     "text": [
      "['python', 'java', 'c,c++,r']\n"
     ]
    }
   ],
   "source": [
    "s = \"python_java_c,c++,r\"\n",
    "l = s.split(\"_\")\n",
    "print(l)\n"
   ]
  },
  {
   "cell_type": "code",
   "execution_count": 130,
   "metadata": {},
   "outputs": [
    {
     "name": "stdout",
     "output_type": "stream",
     "text": [
      "['python', 'java', 'c', 'c++', 'r']\n"
     ]
    }
   ],
   "source": [
    "\n",
    "s = \"python,java,c,c++,r\"\n",
    "l = s.split(\",\")\n",
    "print(l)"
   ]
  },
  {
   "cell_type": "code",
   "execution_count": 131,
   "metadata": {},
   "outputs": [
    {
     "data": {
      "text/plain": [
       "list"
      ]
     },
     "execution_count": 131,
     "metadata": {},
     "output_type": "execute_result"
    }
   ],
   "source": [
    "type(l)"
   ]
  },
  {
   "cell_type": "code",
   "execution_count": null,
   "metadata": {},
   "outputs": [],
   "source": [
    "#split is creating a list of substrings"
   ]
  },
  {
   "cell_type": "code",
   "execution_count": 132,
   "metadata": {},
   "outputs": [
    {
     "name": "stdout",
     "output_type": "stream",
     "text": [
      "['ce', 'selected', 'indi', 'internet', 'usage']\n"
     ]
    }
   ],
   "source": [
    "\n",
    "feature='ce selected indi internet usage'\n",
    "\n",
    "l = feature.split(\" \")\n",
    "print(l)"
   ]
  },
  {
   "cell_type": "code",
   "execution_count": 133,
   "metadata": {},
   "outputs": [
    {
     "name": "stdout",
     "output_type": "stream",
     "text": [
      "ce_selected_indi_internet_usage\n"
     ]
    }
   ],
   "source": [
    "\n",
    "feature = (\"_\").join(l)\n",
    "print(feature)\n",
    "#feature='ce_selected_indi_internet_usage'"
   ]
  },
  {
   "cell_type": "code",
   "execution_count": null,
   "metadata": {},
   "outputs": [],
   "source": []
  },
  {
   "cell_type": "code",
   "execution_count": null,
   "metadata": {},
   "outputs": [],
   "source": []
  },
  {
   "cell_type": "code",
   "execution_count": null,
   "metadata": {},
   "outputs": [],
   "source": []
  },
  {
   "cell_type": "code",
   "execution_count": null,
   "metadata": {},
   "outputs": [],
   "source": []
  },
  {
   "cell_type": "code",
   "execution_count": 134,
   "metadata": {},
   "outputs": [
    {
     "name": "stdout",
     "output_type": "stream",
     "text": [
      "['python', 'java', 'c,c++,r']\n"
     ]
    }
   ],
   "source": [
    "s = \"python_java_c,c++,r\"\n",
    "l = s.split(\"_\")\n",
    "print(l)\n"
   ]
  },
  {
   "cell_type": "code",
   "execution_count": 135,
   "metadata": {},
   "outputs": [
    {
     "name": "stdout",
     "output_type": "stream",
     "text": [
      "python_java_c,c++,r\n"
     ]
    }
   ],
   "source": [
    "\n",
    "s1j = (\"_\").join(l)\n",
    "print(s1j)"
   ]
  },
  {
   "cell_type": "code",
   "execution_count": 136,
   "metadata": {},
   "outputs": [
    {
     "name": "stdout",
     "output_type": "stream",
     "text": [
      "ce_selected_indi_internet_usage\n"
     ]
    }
   ],
   "source": [
    "feature='ce selected indi internet usage'\n",
    "feature_1 = feature.replace(\" \",\"_\")\n",
    "print(feature_1)"
   ]
  },
  {
   "cell_type": "code",
   "execution_count": 137,
   "metadata": {},
   "outputs": [
    {
     "data": {
      "text/plain": [
       "1387929355568"
      ]
     },
     "execution_count": 137,
     "metadata": {},
     "output_type": "execute_result"
    }
   ],
   "source": [
    "id(feature)"
   ]
  },
  {
   "cell_type": "code",
   "execution_count": 138,
   "metadata": {},
   "outputs": [
    {
     "data": {
      "text/plain": [
       "1387929333632"
      ]
     },
     "execution_count": 138,
     "metadata": {},
     "output_type": "execute_result"
    }
   ],
   "source": [
    "id(feature_1)"
   ]
  },
  {
   "cell_type": "code",
   "execution_count": 139,
   "metadata": {},
   "outputs": [],
   "source": [
    "feature = feature.replace(\" \",\"_\")"
   ]
  },
  {
   "cell_type": "code",
   "execution_count": 140,
   "metadata": {},
   "outputs": [
    {
     "data": {
      "text/plain": [
       "1387929354688"
      ]
     },
     "execution_count": 140,
     "metadata": {},
     "output_type": "execute_result"
    }
   ],
   "source": [
    "id(feature)"
   ]
  },
  {
   "cell_type": "code",
   "execution_count": 141,
   "metadata": {},
   "outputs": [
    {
     "data": {
      "text/plain": [
       "1387929362880"
      ]
     },
     "execution_count": 141,
     "metadata": {},
     "output_type": "execute_result"
    }
   ],
   "source": [
    "feature='ce selected indi internet usage'\n",
    "\n",
    "id(feature)"
   ]
  },
  {
   "cell_type": "code",
   "execution_count": 142,
   "metadata": {},
   "outputs": [
    {
     "data": {
      "text/plain": [
       "' '"
      ]
     },
     "execution_count": 142,
     "metadata": {},
     "output_type": "execute_result"
    }
   ],
   "source": [
    "feature[2]"
   ]
  },
  {
   "cell_type": "code",
   "execution_count": 143,
   "metadata": {},
   "outputs": [
    {
     "ename": "TypeError",
     "evalue": "'str' object does not support item assignment",
     "output_type": "error",
     "traceback": [
      "\u001b[1;31m---------------------------------------------------------------------------\u001b[0m",
      "\u001b[1;31mTypeError\u001b[0m                                 Traceback (most recent call last)",
      "Input \u001b[1;32mIn [143]\u001b[0m, in \u001b[0;36m<cell line: 1>\u001b[1;34m()\u001b[0m\n\u001b[1;32m----> 1\u001b[0m feature[\u001b[38;5;241m2\u001b[39m]\u001b[38;5;241m=\u001b[39m\u001b[38;5;124m'\u001b[39m\u001b[38;5;124m_\u001b[39m\u001b[38;5;124m'\u001b[39m\n",
      "\u001b[1;31mTypeError\u001b[0m: 'str' object does not support item assignment"
     ]
    }
   ],
   "source": [
    "feature[2]='_'"
   ]
  },
  {
   "cell_type": "code",
   "execution_count": 144,
   "metadata": {},
   "outputs": [],
   "source": [
    "s = \"python,java,c,c++,r,java,python\""
   ]
  },
  {
   "cell_type": "code",
   "execution_count": 145,
   "metadata": {},
   "outputs": [
    {
     "name": "stdout",
     "output_type": "stream",
     "text": [
      "True\n"
     ]
    }
   ],
   "source": [
    "print(\"java\" in s)"
   ]
  },
  {
   "cell_type": "code",
   "execution_count": 146,
   "metadata": {},
   "outputs": [
    {
     "data": {
      "text/plain": [
       "'ce_selected_indi_internet_usage'"
      ]
     },
     "execution_count": 146,
     "metadata": {},
     "output_type": "execute_result"
    }
   ],
   "source": [
    "feature_1"
   ]
  },
  {
   "cell_type": "code",
   "execution_count": 147,
   "metadata": {},
   "outputs": [
    {
     "name": "stdout",
     "output_type": "stream",
     "text": [
      "True\n"
     ]
    }
   ],
   "source": [
    "print('indi' in feature_1)"
   ]
  },
  {
   "cell_type": "code",
   "execution_count": null,
   "metadata": {},
   "outputs": [],
   "source": [
    "#pandas.... isin"
   ]
  },
  {
   "cell_type": "code",
   "execution_count": 148,
   "metadata": {},
   "outputs": [
    {
     "data": {
      "text/plain": [
       "'python,java,c,c++,r,java,python'"
      ]
     },
     "execution_count": 148,
     "metadata": {},
     "output_type": "execute_result"
    }
   ],
   "source": [
    "s"
   ]
  },
  {
   "cell_type": "code",
   "execution_count": null,
   "metadata": {},
   "outputs": [],
   "source": [
    "#how to get second java position?"
   ]
  },
  {
   "cell_type": "code",
   "execution_count": 149,
   "metadata": {},
   "outputs": [
    {
     "name": "stdout",
     "output_type": "stream",
     "text": [
      "7\n"
     ]
    }
   ],
   "source": [
    "print(s.find(\"java\"))\n"
   ]
  },
  {
   "cell_type": "code",
   "execution_count": 150,
   "metadata": {},
   "outputs": [
    {
     "data": {
      "text/plain": [
       "'python,java,c,c++,r,java,python'"
      ]
     },
     "execution_count": 150,
     "metadata": {},
     "output_type": "execute_result"
    }
   ],
   "source": [
    "s"
   ]
  },
  {
   "cell_type": "code",
   "execution_count": 151,
   "metadata": {},
   "outputs": [
    {
     "name": "stdout",
     "output_type": "stream",
     "text": [
      "-1\n"
     ]
    }
   ],
   "source": [
    "print(s.find(\"julia\"))\n"
   ]
  },
  {
   "cell_type": "code",
   "execution_count": 152,
   "metadata": {},
   "outputs": [
    {
     "name": "stdout",
     "output_type": "stream",
     "text": [
      "python 3.8,java,c,c++,r,java,python 3.8\n"
     ]
    }
   ],
   "source": [
    "s = s.replace(\"python\",\"python 3.8\")\n",
    "print(s)\n"
   ]
  },
  {
   "cell_type": "code",
   "execution_count": 153,
   "metadata": {},
   "outputs": [
    {
     "name": "stdout",
     "output_type": "stream",
     "text": [
      "ce_selected_indi_internet_usage\n"
     ]
    }
   ],
   "source": [
    "s='ce selected indi internet usage'\n",
    "s = s.replace(\" \",\"_\")\n",
    "print(s)"
   ]
  },
  {
   "cell_type": "code",
   "execution_count": 154,
   "metadata": {},
   "outputs": [
    {
     "data": {
      "text/plain": [
       "'ce_selected_indi_internet_usage'"
      ]
     },
     "execution_count": 154,
     "metadata": {},
     "output_type": "execute_result"
    }
   ],
   "source": [
    "s"
   ]
  },
  {
   "cell_type": "code",
   "execution_count": 155,
   "metadata": {},
   "outputs": [
    {
     "name": "stdout",
     "output_type": "stream",
     "text": [
      "1\n"
     ]
    }
   ],
   "source": [
    "print(s.count(\"a\"))"
   ]
  },
  {
   "cell_type": "code",
   "execution_count": 156,
   "metadata": {},
   "outputs": [
    {
     "name": "stdout",
     "output_type": "stream",
     "text": [
      "0\n"
     ]
    }
   ],
   "source": [
    "print(s.count(\"java\"))"
   ]
  },
  {
   "cell_type": "code",
   "execution_count": 157,
   "metadata": {},
   "outputs": [
    {
     "name": "stdout",
     "output_type": "stream",
     "text": [
      "4\n"
     ]
    }
   ],
   "source": [
    "print(s.count(\"_\"))"
   ]
  },
  {
   "cell_type": "code",
   "execution_count": null,
   "metadata": {},
   "outputs": [],
   "source": [
    "#Ce_Selected_Indi_Internet_Usage\n",
    "\n",
    "#ce_selected_indi_internet_usage"
   ]
  },
  {
   "cell_type": "code",
   "execution_count": 158,
   "metadata": {},
   "outputs": [],
   "source": [
    "s = \"PYTHON String\""
   ]
  },
  {
   "cell_type": "code",
   "execution_count": 159,
   "metadata": {},
   "outputs": [
    {
     "name": "stdout",
     "output_type": "stream",
     "text": [
      "python string\n"
     ]
    }
   ],
   "source": [
    "s2 = s.lower()\n",
    "print(s2)"
   ]
  },
  {
   "cell_type": "code",
   "execution_count": 160,
   "metadata": {},
   "outputs": [
    {
     "name": "stdout",
     "output_type": "stream",
     "text": [
      "True\n"
     ]
    }
   ],
   "source": [
    "\n",
    "print(s2.islower())"
   ]
  },
  {
   "cell_type": "code",
   "execution_count": 161,
   "metadata": {},
   "outputs": [
    {
     "name": "stdout",
     "output_type": "stream",
     "text": [
      "False\n"
     ]
    }
   ],
   "source": [
    "\n",
    "print(s.islower())"
   ]
  },
  {
   "cell_type": "code",
   "execution_count": 162,
   "metadata": {},
   "outputs": [
    {
     "name": "stdout",
     "output_type": "stream",
     "text": [
      "PYTHON STRING\n"
     ]
    }
   ],
   "source": [
    "s2 = s.upper()\n",
    "print(s2)"
   ]
  },
  {
   "cell_type": "code",
   "execution_count": 163,
   "metadata": {},
   "outputs": [],
   "source": [
    "s='ce selected indi internet usage'"
   ]
  },
  {
   "cell_type": "code",
   "execution_count": 164,
   "metadata": {},
   "outputs": [
    {
     "name": "stdout",
     "output_type": "stream",
     "text": [
      "Ce Selected Indi Internet Usage\n"
     ]
    }
   ],
   "source": [
    "s2 = s.title()\n",
    "print(s2)"
   ]
  },
  {
   "cell_type": "code",
   "execution_count": 165,
   "metadata": {},
   "outputs": [
    {
     "name": "stdout",
     "output_type": "stream",
     "text": [
      "Ce selected indi internet usage\n"
     ]
    }
   ],
   "source": [
    "s2 = s.capitalize()\n",
    "print(s2)"
   ]
  },
  {
   "cell_type": "code",
   "execution_count": 166,
   "metadata": {},
   "outputs": [
    {
     "name": "stdout",
     "output_type": "stream",
     "text": [
      "False\n"
     ]
    }
   ],
   "source": [
    "s = \" \"\n",
    "print(s.isalpha())\n"
   ]
  },
  {
   "cell_type": "code",
   "execution_count": 167,
   "metadata": {},
   "outputs": [
    {
     "name": "stdout",
     "output_type": "stream",
     "text": [
      "False\n"
     ]
    }
   ],
   "source": [
    "print(s.isalnum())\n"
   ]
  },
  {
   "cell_type": "code",
   "execution_count": 168,
   "metadata": {},
   "outputs": [
    {
     "name": "stdout",
     "output_type": "stream",
     "text": [
      "False\n"
     ]
    }
   ],
   "source": [
    "print(s.isdigit())\n"
   ]
  },
  {
   "cell_type": "code",
   "execution_count": 169,
   "metadata": {},
   "outputs": [
    {
     "name": "stdout",
     "output_type": "stream",
     "text": [
      "True\n"
     ]
    }
   ],
   "source": [
    "print(s.isspace())"
   ]
  },
  {
   "cell_type": "code",
   "execution_count": 170,
   "metadata": {},
   "outputs": [],
   "source": [
    "hobbies=[' watching movies' , 'playing games' , 'dancing' , 'singing songs','reading novels', 'watching movies', 'listening to music', 'playing cricket' , 'scrolling insta','games','cooking', 'dance' , 'songs' , 'gardening']"
   ]
  },
  {
   "cell_type": "code",
   "execution_count": 173,
   "metadata": {},
   "outputs": [
    {
     "name": "stdout",
     "output_type": "stream",
     "text": [
      " watching movies playing games dancing singing songs reading novels watching movies listening to music playing cricket scrolling insta games cooking dance songs gardening\n"
     ]
    }
   ],
   "source": [
    "hobbies_full=' '.join(hobbies)\n",
    "\n",
    "print(hobbies_full)"
   ]
  },
  {
   "cell_type": "code",
   "execution_count": 179,
   "metadata": {},
   "outputs": [
    {
     "name": "stdout",
     "output_type": "stream",
     "text": [
      "Requirement already satisfied: wordcloud in c:\\users\\harika\\anaconda3\\lib\\site-packages (1.8.2.2)\n",
      "Requirement already satisfied: matplotlib in c:\\users\\harika\\anaconda3\\lib\\site-packages (from wordcloud) (3.5.1)\n",
      "Requirement already satisfied: numpy>=1.6.1 in c:\\users\\harika\\anaconda3\\lib\\site-packages (from wordcloud) (1.21.5)\n",
      "Requirement already satisfied: pillow in c:\\users\\harika\\anaconda3\\lib\\site-packages (from wordcloud) (9.0.1)\n",
      "Requirement already satisfied: packaging>=20.0 in c:\\users\\harika\\anaconda3\\lib\\site-packages (from matplotlib->wordcloud) (21.3)\n",
      "Requirement already satisfied: fonttools>=4.22.0 in c:\\users\\harika\\anaconda3\\lib\\site-packages (from matplotlib->wordcloud) (4.25.0)\n",
      "Requirement already satisfied: kiwisolver>=1.0.1 in c:\\users\\harika\\anaconda3\\lib\\site-packages (from matplotlib->wordcloud) (1.3.2)\n",
      "Requirement already satisfied: pyparsing>=2.2.1 in c:\\users\\harika\\anaconda3\\lib\\site-packages (from matplotlib->wordcloud) (3.0.4)\n",
      "Requirement already satisfied: python-dateutil>=2.7 in c:\\users\\harika\\anaconda3\\lib\\site-packages (from matplotlib->wordcloud) (2.8.2)\n",
      "Requirement already satisfied: cycler>=0.10 in c:\\users\\harika\\anaconda3\\lib\\site-packages (from matplotlib->wordcloud) (0.11.0)\n",
      "Requirement already satisfied: six>=1.5 in c:\\users\\harika\\anaconda3\\lib\\site-packages (from python-dateutil>=2.7->matplotlib->wordcloud) (1.16.0)\n",
      "Note: you may need to restart the kernel to use updated packages.\n"
     ]
    }
   ],
   "source": [
    "pip install wordcloud"
   ]
  },
  {
   "cell_type": "code",
   "execution_count": 181,
   "metadata": {},
   "outputs": [
    {
     "data": {
      "image/png": "[encoded data removed]",
      "text/plain": [
       "<Figure size 432x288 with 1 Axes>"
      ]
     },
     "metadata": {
      "needs_background": "light"
     },
     "output_type": "display_data"
    }
   ],
   "source": [
    "from wordcloud import WordCloud\n",
    "wordcloud = WordCloud().generate(hobbies_full)\n",
    "import matplotlib.pyplot as plt\n",
    "\n",
    "plt.imshow(wordcloud)\n",
    "plt.axis(\"off\")\n",
    "plt.show()"
   ]
  },
  {
   "cell_type": "code",
   "execution_count": 182,
   "metadata": {},
   "outputs": [],
   "source": [
    "dream=['I am Nalini Baddiredddi and I want to be Data Analyst.',\n",
    "\n",
    "'i am likhith and i want to be a data analyst' ,                                                                                                                                \n",
    "\n",
    "'I am gayathree and I want to be a data scientist',\n",
    "\n",
    "'I am Jagadeesh and I want to be a Data Analyst',\n",
    "\n",
    "'I am Sravya and I want to be data scientist',\n",
    "\n",
    "\"I am Navya and I want to become a ML engineer\",\n",
    "\n",
    "'I am charan satya and i want to be a data analyst',\n",
    "\n",
    "'I am Haripriya and I want to work for a project in software and civil combination',\n",
    "\n",
    "'I am ramya and i want to work as a scientist in isro',\n",
    "\n",
    "'I am lavanya and I want to become a data scientist',\n",
    "\n",
    "'i am Kavya and i want to become an Entrepreneur.','I am Lakshmi and I want crack a good job in IT Sector','I am Sriram, I want to be a Cricket Analyst','I am Sravya and   i want to be a data scientist','I am Reshma and I want to start a career as a Environmental Data Analyst', 'I am Srushti and want to learn and earn ',' i am  mahesh joshi and  i want to start career in elctical vehicle analysis','I am Vijay and I want to acquire various knowledge',' I am Vishwa and i want to become Rich','i am Thoran and I want to retire at age 40 will full cash','i am Namitha and i want to grow rich']"
   ]
  },
  {
   "cell_type": "code",
   "execution_count": 183,
   "metadata": {},
   "outputs": [
    {
     "data": {
      "text/plain": [
       "['I am Nalini Baddiredddi and I want to be Data Analyst.',\n",
       " 'i am likhith and i want to be a data analyst',\n",
       " 'I am gayathree and I want to be a data scientist',\n",
       " 'I am Jagadeesh and I want to be a Data Analyst',\n",
       " 'I am Sravya and I want to be data scientist',\n",
       " 'I am Navya and I want to become a ML engineer',\n",
       " 'I am charan satya and i want to be a data analyst',\n",
       " 'I am Haripriya and I want to work for a project in software and civil combination',\n",
       " 'I am ramya and i want to work as a scientist in isro',\n",
       " 'I am lavanya and I want to become a data scientist',\n",
       " 'i am Kavya and i want to become an Entrepreneur.',\n",
       " 'I am Lakshmi and I want crack a good job in IT Sector',\n",
       " 'I am Sriram, I want to be a Cricket Analyst',\n",
       " 'I am Sravya and   i want to be a data scientist',\n",
       " 'I am Reshma and I want to start a career as a Environmental Data Analyst',\n",
       " 'I am Srushti and want to learn and earn ',\n",
       " ' i am  mahesh joshi and  i want to start career in elctical vehicle analysis',\n",
       " 'I am Vijay and I want to acquire various knowledge',\n",
       " ' I am Vishwa and i want to become Rich',\n",
       " 'i am Thoran and I want to retire at age 40 will full cash',\n",
       " 'i am Namitha and i want to grow rich']"
      ]
     },
     "execution_count": 183,
     "metadata": {},
     "output_type": "execute_result"
    }
   ],
   "source": [
    "dream\n"
   ]
  },
  {
   "cell_type": "code",
   "execution_count": 154,
   "metadata": {},
   "outputs": [
    {
     "data": {
      "text/plain": [
       "21"
      ]
     },
     "execution_count": 154,
     "metadata": {},
     "output_type": "execute_result"
    }
   ],
   "source": [
    "len(dream)\n"
   ]
  },
  {
   "cell_type": "code",
   "execution_count": 184,
   "metadata": {},
   "outputs": [
    {
     "name": "stdout",
     "output_type": "stream",
     "text": [
      "I am Nalini Baddiredddi and I want to be Data Analyst. i am likhith and i want to be a data analyst I am gayathree and I want to be a data scientist I am Jagadeesh and I want to be a Data Analyst I am Sravya and I want to be data scientist I am Navya and I want to become a ML engineer I am charan satya and i want to be a data analyst I am Haripriya and I want to work for a project in software and civil combination I am ramya and i want to work as a scientist in isro I am lavanya and I want to become a data scientist i am Kavya and i want to become an Entrepreneur. I am Lakshmi and I want crack a good job in IT Sector I am Sriram, I want to be a Cricket Analyst I am Sravya and   i want to be a data scientist I am Reshma and I want to start a career as a Environmental Data Analyst I am Srushti and want to learn and earn   i am  mahesh joshi and  i want to start career in elctical vehicle analysis I am Vijay and I want to acquire various knowledge  I am Vishwa and i want to become Rich i am Thoran and I want to retire at age 40 will full cash i am Namitha and i want to grow rich\n"
     ]
    }
   ],
   "source": [
    "Surge_Task = (\" \").join(dream)\n",
    "print(Surge_Task)"
   ]
  },
  {
   "cell_type": "code",
   "execution_count": 185,
   "metadata": {},
   "outputs": [
    {
     "data": {
      "image/png": "[encoded data removed]",
      "text/plain": [
       "<Figure size 432x288 with 1 Axes>"
      ]
     },
     "metadata": {
      "needs_background": "light"
     },
     "output_type": "display_data"
    }
   ],
   "source": [
    "from wordcloud import WordCloud\n",
    "wordcloud = WordCloud().generate(Surge_Task)\n",
    "import matplotlib.pyplot as plt\n",
    "%matplotlib inline\n",
    "plt.imshow(wordcloud)\n",
    "plt.axis(\"off\")\n",
    "plt.show()"
   ]
  },
  {
   "cell_type": "code",
   "execution_count": 186,
   "metadata": {},
   "outputs": [],
   "source": [
    "dream=['i am bindhu sri and my hobbies are playing chess and listening music and i want to become a data scientist',\n",
    "'i am RAM SAI my hobbies r fighting with my frnd nd overthink every situation in that fight with my -ve mind',\n",
    "'l am gnana prasanna and my hobbies are listening music and watching movies and i want to become a data scientist ',\n",
    "'i am renu sathvika my hobbies are playing badminton and watching movies and want to become specialist in artificial intelligence',\n",
    "'i am anjali parakh and my hobbies are journaling and gardening and i want to become a data scientist',\n",
    "'I am Saisankar and my hobbies are listening music, watching movies and reading books ,I want to become a software engineer',\n",
    "'i am Pavani Latha and my hobbies are singing and listening to music and i want to become a Data Scientist ',\n",
    "'i am uday and my hobbies are reading books and listening music and i want to become a good programmar',\n",
    "'I am sai deepak and my hobbies are reading manga(anime comics) reader and I want to become a Data scientist',\n",
    "'i am siri chandana and my hobbies are listening to music and playing games and I want to become a software developer',\n",
    "'I am Phani Teja and my hobbies are watching anime and listening to music, and I want to become a Data Scientist',\n",
    "'i am bhanu karthik and my hobbies are watching cinema and cricket and i want to become a data scientist',\n",
    "'I am Gowtham and my hobbies are playing cricket and watching cricket i want to become a software engineer',\n",
    "'i am murthy and my hobbies are watching movies, listening music and i want to become ml scientist',\n",
    "'i am joharika and my hobbies are listening podcasts and drawing and i want to become a software engineer',\n",
    "'i am praveena and my hobbies are listening music and video editing and i want to become a data scientist',\n",
    "\"i am thrivenimuvva and my hobbies are dancing and i want to be a data analyst\",\n",
    "'l am Naveen and my hobbies are listening music , watching movies and i want to become a data scientist ',\n",
    "'i am satya keerthi reddy and my hobbies are playing outdoor games and I want to become a data scientist ',\n",
    "'I am Subramanyam and my hobbies are reading books, listening music, playing outdoor games and I want to become a data scientist' ,\n",
    "'I am Rakesh and my hobbies are playing chess and badminton and want to become a SDE',\n",
    "'i am pavan kalyan and my hobbies are playing badminton and listening songs and i want to become a software engineer',\n",
    "' I am krishna and I like to upgrade my skills all the time , and I want to become a Entrepreneur' ,\n",
    "' I am Kishore and my hobbies are practise coding/participate in different coding competitions and chit-chat with friends, I want to reach a higher position with professional skills in a company',\n",
    "' I am sathwik and my hobbies are watching and playing cricket and i want to become a data scientist' ,\n",
    "'i am varshini and my hobbies are listening to music and reading books and i want to become a software engineer',\n",
    "'I am Sai Lakshman and my hobbies are watching movies, listening to music and I want to become a data scientist',\n",
    "'i am varun sai and my hobbies are listening music and watching movies.i want to become a data scientist',\n",
    "'i am jaswanth and my hobbies are watching movies and traveling and i want to become a data scientist',\n",
    "' I am Umamaheswararao my hobbies are web surfing, watching movies and I want to become a data scientist',\n",
    "'i am bhavani and my hobbies are watching movies and solving different rubiks cubes and i want to become a data scientist',\n",
    "'i am pavithra naga and my hobbies are watching movies, surfing the internet, reading books and i want to become a data scientist',\n",
    "' I am Nithisha and My hobbies are Reading books and Listening Music and I want to become a software engineer',\n",
    "'I am Sai Sahithi and my hobbies are watching cricket and listening music and I want to become a data scientist',\n",
    "' I am Vinay and my hobbies are playing Basketball and listening to music and I want to become a Data Scientist',\n",
    "'iam shabana and my hobbies are learning and listening music and i want to become a data scientist',\n",
    "'I am Joshitha simhadri and my hobbies are listening podcats and reading mythological books and I want to become a data scientist',\n",
    "'I am Venkata Lakshmi, and my hobbies are watching movies and listening to music and I want to become a data scientist',\n",
    "' I am Mohan and my hobbies are watching movies, listening to music and I want to be a data scientist',\n",
    "'I am kiran and my hobbies are watching movies and exploring new things and I want to become analyst',\n",
    "'I am Praneetha and my hobbies are listening music and drawing and i want to become a data scientist.',\n",
    "' i am sai kiran and my hobbies are playing badminton and watching cinema ,writing diary and i want to become a data scientist',\n",
    "'i am adithi and my hobbies are reading books and drawing and i want to become data scientist',\n",
    "' I am Mouli Sai Babu and my hobbies are watching movies, listening music, reading books, and I want to become a data scientist',\n",
    "'I am savaram pokhran royal and my hobbies are watching movies and reading books,and Want to become a data scientist',\n",
    "' I am Subramanyam. My hobbies are listening music, playing games and I want to become an AI-ML Engineer',\n",
    "' I am Lakshmi Narayana and my hobbies are watching movies and playing games and I want to become a data scientist',\n",
    "'i am Narasimha swamy and my hobbies are surfing on internet and listening music and i want to become an entrepreneur',\n",
    "' I am Ishan Pandey, my hobbies are working out, playing PC games and I want to become rich']"
   ]
  },
  {
   "cell_type": "code",
   "execution_count": 187,
   "metadata": {},
   "outputs": [],
   "source": [
    "dream_1=['i am sahith,my hobbies are listening music,playing cricket,browsing internet and watching movies','I am Ramya Sri. My hobbies are listening music and learning new skills. I want to become a Data Scientist.','I am koushik My hobbies are listening music ,watching movies,playing cricket.I want to become a software engineer.','i am sahith,my hobbies are listening music,playing cricket,watching movies.I want to become a data analyst']"
   ]
  },
  {
   "cell_type": "code",
   "execution_count": 188,
   "metadata": {},
   "outputs": [],
   "source": [
    "dream_2=['this is neeraj i am from the cmrec and my hobbies are watching movies  and become a data scientist','I am G,Abhiprakash. My hobbies are acting,singing.I  want to get a placement in a reputed company.','I am Nithin.My hobbies are listening to music and to explore more on technology and i want to become data scientist and get place in a good company','I am Ramya Sri. My hobbies are listening music and learning new skills. I want to become a Data Scientist.']"
   ]
  },
  {
   "cell_type": "code",
   "execution_count": 189,
   "metadata": {},
   "outputs": [],
   "source": [
    "dream_1.extend(dream_2)"
   ]
  },
  {
   "cell_type": "code",
   "execution_count": 191,
   "metadata": {},
   "outputs": [
    {
     "data": {
      "text/plain": [
       "['i am sahith,my hobbies are listening music,playing cricket,browsing internet and watching movies',\n",
       " 'I am Ramya Sri. My hobbies are listening music and learning new skills. I want to become a Data Scientist.',\n",
       " 'I am koushik My hobbies are listening music ,watching movies,playing cricket.I want to become a software engineer.',\n",
       " 'i am sahith,my hobbies are listening music,playing cricket,watching movies.I want to become a data analyst',\n",
       " 'this is neeraj i am from the cmrec and my hobbies are watching movies  and become a data scientist',\n",
       " 'I am G,Abhiprakash. My hobbies are acting,singing.I  want to get a placement in a reputed company.',\n",
       " 'I am Nithin.My hobbies are listening to music and to explore more on technology and i want to become data scientist and get place in a good company',\n",
       " 'I am Ramya Sri. My hobbies are listening music and learning new skills. I want to become a Data Scientist.']"
      ]
     },
     "execution_count": 191,
     "metadata": {},
     "output_type": "execute_result"
    }
   ],
   "source": [
    "dream_1"
   ]
  },
  {
   "cell_type": "code",
   "execution_count": 192,
   "metadata": {},
   "outputs": [],
   "source": [
    "dream.extend(dream_1)"
   ]
  },
  {
   "cell_type": "code",
   "execution_count": 193,
   "metadata": {},
   "outputs": [
    {
     "data": {
      "text/plain": [
       "['i am bindhu sri and my hobbies are playing chess and listening music and i want to become a data scientist',\n",
       " 'i am RAM SAI my hobbies r fighting with my frnd nd overthink every situation in that fight with my -ve mind',\n",
       " 'l am gnana prasanna and my hobbies are listening music and watching movies and i want to become a data scientist ',\n",
       " 'i am renu sathvika my hobbies are playing badminton and watching movies and want to become specialist in artificial intelligence',\n",
       " 'i am anjali parakh and my hobbies are journaling and gardening and i want to become a data scientist',\n",
       " 'I am Saisankar and my hobbies are listening music, watching movies and reading books ,I want to become a software engineer',\n",
       " 'i am Pavani Latha and my hobbies are singing and listening to music and i want to become a Data Scientist ',\n",
       " 'i am uday and my hobbies are reading books and listening music and i want to become a good programmar',\n",
       " 'I am sai deepak and my hobbies are reading manga(anime comics) reader and I want to become a Data scientist',\n",
       " 'i am siri chandana and my hobbies are listening to music and playing games and I want to become a software developer',\n",
       " 'I am Phani Teja and my hobbies are watching anime and listening to music, and I want to become a Data Scientist',\n",
       " 'i am bhanu karthik and my hobbies are watching cinema and cricket and i want to become a data scientist',\n",
       " 'I am Gowtham and my hobbies are playing cricket and watching cricket i want to become a software engineer',\n",
       " 'i am murthy and my hobbies are watching movies, listening music and i want to become ml scientist',\n",
       " 'i am joharika and my hobbies are listening podcasts and drawing and i want to become a software engineer',\n",
       " 'i am praveena and my hobbies are listening music and video editing and i want to become a data scientist',\n",
       " 'i am thrivenimuvva and my hobbies are dancing and i want to be a data analyst',\n",
       " 'l am Naveen and my hobbies are listening music , watching movies and i want to become a data scientist ',\n",
       " 'i am satya keerthi reddy and my hobbies are playing outdoor games and I want to become a data scientist ',\n",
       " 'I am Subramanyam and my hobbies are reading books, listening music, playing outdoor games and I want to become a data scientist',\n",
       " 'I am Rakesh and my hobbies are playing chess and badminton and want to become a SDE',\n",
       " 'i am pavan kalyan and my hobbies are playing badminton and listening songs and i want to become a software engineer',\n",
       " ' I am krishna and I like to upgrade my skills all the time , and I want to become a Entrepreneur',\n",
       " ' I am Kishore and my hobbies are practise coding/participate in different coding competitions and chit-chat with friends, I want to reach a higher position with professional skills in a company',\n",
       " ' I am sathwik and my hobbies are watching and playing cricket and i want to become a data scientist',\n",
       " 'i am varshini and my hobbies are listening to music and reading books and i want to become a software engineer',\n",
       " 'I am Sai Lakshman and my hobbies are watching movies, listening to music and I want to become a data scientist',\n",
       " 'i am varun sai and my hobbies are listening music and watching movies.i want to become a data scientist',\n",
       " 'i am jaswanth and my hobbies are watching movies and traveling and i want to become a data scientist',\n",
       " ' I am Umamaheswararao my hobbies are web surfing, watching movies and I want to become a data scientist',\n",
       " 'i am bhavani and my hobbies are watching movies and solving different rubiks cubes and i want to become a data scientist',\n",
       " 'i am pavithra naga and my hobbies are watching movies, surfing the internet, reading books and i want to become a data scientist',\n",
       " ' I am Nithisha and My hobbies are Reading books and Listening Music and I want to become a software engineer',\n",
       " 'I am Sai Sahithi and my hobbies are watching cricket and listening music and I want to become a data scientist',\n",
       " ' I am Vinay and my hobbies are playing Basketball and listening to music and I want to become a Data Scientist',\n",
       " 'iam shabana and my hobbies are learning and listening music and i want to become a data scientist',\n",
       " 'I am Joshitha simhadri and my hobbies are listening podcats and reading mythological books and I want to become a data scientist',\n",
       " 'I am Venkata Lakshmi, and my hobbies are watching movies and listening to music and I want to become a data scientist',\n",
       " ' I am Mohan and my hobbies are watching movies, listening to music and I want to be a data scientist',\n",
       " 'I am kiran and my hobbies are watching movies and exploring new things and I want to become analyst',\n",
       " 'I am Praneetha and my hobbies are listening music and drawing and i want to become a data scientist.',\n",
       " ' i am sai kiran and my hobbies are playing badminton and watching cinema ,writing diary and i want to become a data scientist',\n",
       " 'i am adithi and my hobbies are reading books and drawing and i want to become data scientist',\n",
       " ' I am Mouli Sai Babu and my hobbies are watching movies, listening music, reading books, and I want to become a data scientist',\n",
       " 'I am savaram pokhran royal and my hobbies are watching movies and reading books,and Want to become a data scientist',\n",
       " ' I am Subramanyam. My hobbies are listening music, playing games and I want to become an AI-ML Engineer',\n",
       " ' I am Lakshmi Narayana and my hobbies are watching movies and playing games and I want to become a data scientist',\n",
       " 'i am Narasimha swamy and my hobbies are surfing on internet and listening music and i want to become an entrepreneur',\n",
       " ' I am Ishan Pandey, my hobbies are working out, playing PC games and I want to become rich',\n",
       " 'i am sahith,my hobbies are listening music,playing cricket,browsing internet and watching movies',\n",
       " 'I am Ramya Sri. My hobbies are listening music and learning new skills. I want to become a Data Scientist.',\n",
       " 'I am koushik My hobbies are listening music ,watching movies,playing cricket.I want to become a software engineer.',\n",
       " 'i am sahith,my hobbies are listening music,playing cricket,watching movies.I want to become a data analyst',\n",
       " 'this is neeraj i am from the cmrec and my hobbies are watching movies  and become a data scientist',\n",
       " 'I am G,Abhiprakash. My hobbies are acting,singing.I  want to get a placement in a reputed company.',\n",
       " 'I am Nithin.My hobbies are listening to music and to explore more on technology and i want to become data scientist and get place in a good company',\n",
       " 'I am Ramya Sri. My hobbies are listening music and learning new skills. I want to become a Data Scientist.']"
      ]
     },
     "execution_count": 193,
     "metadata": {},
     "output_type": "execute_result"
    }
   ],
   "source": [
    "dream"
   ]
  },
  {
   "cell_type": "code",
   "execution_count": 194,
   "metadata": {},
   "outputs": [
    {
     "data": {
      "text/plain": [
       "57"
      ]
     },
     "execution_count": 194,
     "metadata": {},
     "output_type": "execute_result"
    }
   ],
   "source": [
    "len(dream)"
   ]
  },
  {
   "cell_type": "code",
   "execution_count": 195,
   "metadata": {},
   "outputs": [
    {
     "name": "stdout",
     "output_type": "stream",
     "text": [
      "i am bindhu sri and my hobbies are playing chess and listening music and i want to become a data scientist i am RAM SAI my hobbies r fighting with my frnd nd overthink every situation in that fight with my -ve mind l am gnana prasanna and my hobbies are listening music and watching movies and i want to become a data scientist  i am renu sathvika my hobbies are playing badminton and watching movies and want to become specialist in artificial intelligence i am anjali parakh and my hobbies are journaling and gardening and i want to become a data scientist I am Saisankar and my hobbies are listening music, watching movies and reading books ,I want to become a software engineer i am Pavani Latha and my hobbies are singing and listening to music and i want to become a Data Scientist  i am uday and my hobbies are reading books and listening music and i want to become a good programmar I am sai deepak and my hobbies are reading manga(anime comics) reader and I want to become a Data scientist i am siri chandana and my hobbies are listening to music and playing games and I want to become a software developer I am Phani Teja and my hobbies are watching anime and listening to music, and I want to become a Data Scientist i am bhanu karthik and my hobbies are watching cinema and cricket and i want to become a data scientist I am Gowtham and my hobbies are playing cricket and watching cricket i want to become a software engineer i am murthy and my hobbies are watching movies, listening music and i want to become ml scientist i am joharika and my hobbies are listening podcasts and drawing and i want to become a software engineer i am praveena and my hobbies are listening music and video editing and i want to become a data scientist i am thrivenimuvva and my hobbies are dancing and i want to be a data analyst l am Naveen and my hobbies are listening music , watching movies and i want to become a data scientist  i am satya keerthi reddy and my hobbies are playing outdoor games and I want to become a data scientist  I am Subramanyam and my hobbies are reading books, listening music, playing outdoor games and I want to become a data scientist I am Rakesh and my hobbies are playing chess and badminton and want to become a SDE i am pavan kalyan and my hobbies are playing badminton and listening songs and i want to become a software engineer  I am krishna and I like to upgrade my skills all the time , and I want to become a Entrepreneur  I am Kishore and my hobbies are practise coding/participate in different coding competitions and chit-chat with friends, I want to reach a higher position with professional skills in a company  I am sathwik and my hobbies are watching and playing cricket and i want to become a data scientist i am varshini and my hobbies are listening to music and reading books and i want to become a software engineer I am Sai Lakshman and my hobbies are watching movies, listening to music and I want to become a data scientist i am varun sai and my hobbies are listening music and watching movies.i want to become a data scientist i am jaswanth and my hobbies are watching movies and traveling and i want to become a data scientist  I am Umamaheswararao my hobbies are web surfing, watching movies and I want to become a data scientist i am bhavani and my hobbies are watching movies and solving different rubiks cubes and i want to become a data scientist i am pavithra naga and my hobbies are watching movies, surfing the internet, reading books and i want to become a data scientist  I am Nithisha and My hobbies are Reading books and Listening Music and I want to become a software engineer I am Sai Sahithi and my hobbies are watching cricket and listening music and I want to become a data scientist  I am Vinay and my hobbies are playing Basketball and listening to music and I want to become a Data Scientist iam shabana and my hobbies are learning and listening music and i want to become a data scientist I am Joshitha simhadri and my hobbies are listening podcats and reading mythological books and I want to become a data scientist I am Venkata Lakshmi, and my hobbies are watching movies and listening to music and I want to become a data scientist  I am Mohan and my hobbies are watching movies, listening to music and I want to be a data scientist I am kiran and my hobbies are watching movies and exploring new things and I want to become analyst I am Praneetha and my hobbies are listening music and drawing and i want to become a data scientist.  i am sai kiran and my hobbies are playing badminton and watching cinema ,writing diary and i want to become a data scientist i am adithi and my hobbies are reading books and drawing and i want to become data scientist  I am Mouli Sai Babu and my hobbies are watching movies, listening music, reading books, and I want to become a data scientist I am savaram pokhran royal and my hobbies are watching movies and reading books,and Want to become a data scientist  I am Subramanyam. My hobbies are listening music, playing games and I want to become an AI-ML Engineer  I am Lakshmi Narayana and my hobbies are watching movies and playing games and I want to become a data scientist i am Narasimha swamy and my hobbies are surfing on internet and listening music and i want to become an entrepreneur  I am Ishan Pandey, my hobbies are working out, playing PC games and I want to become rich i am sahith,my hobbies are listening music,playing cricket,browsing internet and watching movies I am Ramya Sri. My hobbies are listening music and learning new skills. I want to become a Data Scientist. I am koushik My hobbies are listening music ,watching movies,playing cricket.I want to become a software engineer. i am sahith,my hobbies are listening music,playing cricket,watching movies.I want to become a data analyst this is neeraj i am from the cmrec and my hobbies are watching movies  and become a data scientist I am G,Abhiprakash. My hobbies are acting,singing.I  want to get a placement in a reputed company. I am Nithin.My hobbies are listening to music and to explore more on technology and i want to become data scientist and get place in a good company I am Ramya Sri. My hobbies are listening music and learning new skills. I want to become a Data Scientist.\n"
     ]
    }
   ],
   "source": [
    "Surge_Task = (\" \").join(dream)\n",
    "print(Surge_Task)"
   ]
  },
  {
   "cell_type": "code",
   "execution_count": 198,
   "metadata": {},
   "outputs": [
    {
     "data": {
      "image/png": "[encoded data removed]",
      "text/plain": [
       "<Figure size 432x288 with 1 Axes>"
      ]
     },
     "metadata": {
      "needs_background": "light"
     },
     "output_type": "display_data"
    }
   ],
   "source": [
    "from wordcloud import WordCloud\n",
    "wordcloud = WordCloud().generate(Surge_Task)\n",
    "import matplotlib.pyplot as plt\n",
    "%matplotlib inline\n",
    "plt.imshow(wordcloud)\n",
    "plt.axis(\"off\")\n",
    "plt.show()"
   ]
  },
  {
   "cell_type": "code",
   "execution_count": null,
   "metadata": {},
   "outputs": [],
   "source": [
    "module\n",
    "\n",
    "RAC error\n",
    "filamentation adoption\n",
    "arcing error\n",
    "oil pressure "
   ]
  }
 ],
 "metadata": {
  "kernelspec": {
   "display_name": "Python 3 (ipykernel)",
   "language": "python",
   "name": "python3"
  },
  "language_info": {
   "codemirror_mode": {
    "name": "ipython",
    "version": 3
   },
   "file_extension": ".py",
   "mimetype": "text/x-python",
   "name": "python",
   "nbconvert_exporter": "python",
   "pygments_lexer": "ipython3",
   "version": "3.9.12"
  }
 },
 "nbformat": 4,
 "nbformat_minor": 4
}
